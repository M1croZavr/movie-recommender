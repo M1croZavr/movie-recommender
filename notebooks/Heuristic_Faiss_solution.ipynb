{
 "cells": [
  {
   "cell_type": "code",
   "execution_count": 2,
   "metadata": {
    "colab": {
     "base_uri": "https://localhost:8080/",
     "height": 112
    },
    "id": "f8ON-kj8glLk",
    "outputId": "e6c5d8c2-2f3f-433b-fdde-928651f836d6"
   },
   "outputs": [
    {
     "data": {
      "text/html": [
       "<div>\n",
       "<style scoped>\n",
       "    .dataframe tbody tr th:only-of-type {\n",
       "        vertical-align: middle;\n",
       "    }\n",
       "\n",
       "    .dataframe tbody tr th {\n",
       "        vertical-align: top;\n",
       "    }\n",
       "\n",
       "    .dataframe thead th {\n",
       "        text-align: right;\n",
       "    }\n",
       "</style>\n",
       "<table border=\"1\" class=\"dataframe\">\n",
       "  <thead>\n",
       "    <tr style=\"text-align: right;\">\n",
       "      <th></th>\n",
       "      <th>user_id</th>\n",
       "      <th>item_id</th>\n",
       "      <th>rating</th>\n",
       "      <th>timestamp</th>\n",
       "    </tr>\n",
       "  </thead>\n",
       "  <tbody>\n",
       "    <tr>\n",
       "      <th>0</th>\n",
       "      <td>0</td>\n",
       "      <td>1505</td>\n",
       "      <td>4</td>\n",
       "      <td>0</td>\n",
       "    </tr>\n",
       "    <tr>\n",
       "      <th>1</th>\n",
       "      <td>0</td>\n",
       "      <td>3669</td>\n",
       "      <td>3</td>\n",
       "      <td>1</td>\n",
       "    </tr>\n",
       "  </tbody>\n",
       "</table>\n",
       "</div>"
      ],
      "text/plain": [
       "   user_id  item_id  rating  timestamp\n",
       "0        0     1505       4          0\n",
       "1        0     3669       3          1"
      ]
     },
     "execution_count": 2,
     "metadata": {},
     "output_type": "execute_result"
    }
   ],
   "source": [
    "import numpy as np\n",
    "import pandas as pd\n",
    "\n",
    "\n",
    "events = pd.read_csv('../data/events.csv')\n",
    "events.head(2)"
   ]
  },
  {
   "cell_type": "code",
   "execution_count": 3,
   "metadata": {
    "colab": {
     "base_uri": "https://localhost:8080/",
     "height": 132
    },
    "id": "s-naficlguBK",
    "outputId": "917f618b-3056-45b9-c7f2-0e57d84305b9"
   },
   "outputs": [
    {
     "data": {
      "text/html": [
       "<div>\n",
       "<style scoped>\n",
       "    .dataframe tbody tr th:only-of-type {\n",
       "        vertical-align: middle;\n",
       "    }\n",
       "\n",
       "    .dataframe tbody tr th {\n",
       "        vertical-align: top;\n",
       "    }\n",
       "\n",
       "    .dataframe thead th {\n",
       "        text-align: right;\n",
       "    }\n",
       "</style>\n",
       "<table border=\"1\" class=\"dataframe\">\n",
       "  <thead>\n",
       "    <tr style=\"text-align: right;\">\n",
       "      <th></th>\n",
       "      <th>item_id</th>\n",
       "      <th>genre_0</th>\n",
       "      <th>genre_1</th>\n",
       "      <th>genre_2</th>\n",
       "      <th>genre_3</th>\n",
       "      <th>genre_4</th>\n",
       "      <th>genre_5</th>\n",
       "      <th>genre_6</th>\n",
       "      <th>genre_7</th>\n",
       "      <th>genre_8</th>\n",
       "      <th>genre_9</th>\n",
       "      <th>genre_10</th>\n",
       "      <th>genre_11</th>\n",
       "      <th>genre_12</th>\n",
       "      <th>genre_13</th>\n",
       "      <th>genre_14</th>\n",
       "      <th>genre_15</th>\n",
       "      <th>genre_16</th>\n",
       "      <th>genre_17</th>\n",
       "    </tr>\n",
       "  </thead>\n",
       "  <tbody>\n",
       "    <tr>\n",
       "      <th>0</th>\n",
       "      <td>0</td>\n",
       "      <td>0</td>\n",
       "      <td>1</td>\n",
       "      <td>0</td>\n",
       "      <td>1</td>\n",
       "      <td>1</td>\n",
       "      <td>0</td>\n",
       "      <td>0</td>\n",
       "      <td>0</td>\n",
       "      <td>1</td>\n",
       "      <td>0</td>\n",
       "      <td>0</td>\n",
       "      <td>0</td>\n",
       "      <td>0</td>\n",
       "      <td>1</td>\n",
       "      <td>0</td>\n",
       "      <td>0</td>\n",
       "      <td>0</td>\n",
       "      <td>0</td>\n",
       "    </tr>\n",
       "    <tr>\n",
       "      <th>1</th>\n",
       "      <td>1</td>\n",
       "      <td>0</td>\n",
       "      <td>0</td>\n",
       "      <td>0</td>\n",
       "      <td>0</td>\n",
       "      <td>0</td>\n",
       "      <td>0</td>\n",
       "      <td>0</td>\n",
       "      <td>1</td>\n",
       "      <td>0</td>\n",
       "      <td>0</td>\n",
       "      <td>0</td>\n",
       "      <td>0</td>\n",
       "      <td>0</td>\n",
       "      <td>0</td>\n",
       "      <td>0</td>\n",
       "      <td>0</td>\n",
       "      <td>0</td>\n",
       "      <td>0</td>\n",
       "    </tr>\n",
       "  </tbody>\n",
       "</table>\n",
       "</div>"
      ],
      "text/plain": [
       "   item_id  genre_0  genre_1  genre_2  genre_3  genre_4  genre_5  genre_6  \\\n",
       "0        0        0        1        0        1        1        0        0   \n",
       "1        1        0        0        0        0        0        0        0   \n",
       "\n",
       "   genre_7  genre_8  genre_9  genre_10  genre_11  genre_12  genre_13  \\\n",
       "0        0        1        0         0         0         0         1   \n",
       "1        1        0        0         0         0         0         0   \n",
       "\n",
       "   genre_14  genre_15  genre_16  genre_17  \n",
       "0         0         0         0         0  \n",
       "1         0         0         0         0  "
      ]
     },
     "execution_count": 3,
     "metadata": {},
     "output_type": "execute_result"
    }
   ],
   "source": [
    "item_features = pd.read_csv('../data/item_features.csv')\n",
    "item_features.head(2)"
   ]
  },
  {
   "cell_type": "code",
   "execution_count": 4,
   "metadata": {
    "colab": {
     "base_uri": "https://localhost:8080/",
     "height": 112
    },
    "id": "hTOF0UBcg6SB",
    "outputId": "03cb9924-bbec-493f-8348-4f4313b0b341"
   },
   "outputs": [
    {
     "data": {
      "text/html": [
       "<div>\n",
       "<style scoped>\n",
       "    .dataframe tbody tr th:only-of-type {\n",
       "        vertical-align: middle;\n",
       "    }\n",
       "\n",
       "    .dataframe tbody tr th {\n",
       "        vertical-align: top;\n",
       "    }\n",
       "\n",
       "    .dataframe thead th {\n",
       "        text-align: right;\n",
       "    }\n",
       "</style>\n",
       "<table border=\"1\" class=\"dataframe\">\n",
       "  <thead>\n",
       "    <tr style=\"text-align: right;\">\n",
       "      <th></th>\n",
       "      <th>user_id</th>\n",
       "      <th>gender</th>\n",
       "      <th>age</th>\n",
       "    </tr>\n",
       "  </thead>\n",
       "  <tbody>\n",
       "    <tr>\n",
       "      <th>0</th>\n",
       "      <td>4855</td>\n",
       "      <td>0</td>\n",
       "      <td>1</td>\n",
       "    </tr>\n",
       "    <tr>\n",
       "      <th>1</th>\n",
       "      <td>4065</td>\n",
       "      <td>1</td>\n",
       "      <td>56</td>\n",
       "    </tr>\n",
       "  </tbody>\n",
       "</table>\n",
       "</div>"
      ],
      "text/plain": [
       "   user_id  gender  age\n",
       "0     4855       0    1\n",
       "1     4065       1   56"
      ]
     },
     "execution_count": 4,
     "metadata": {},
     "output_type": "execute_result"
    }
   ],
   "source": [
    "user_features = pd.read_csv('../data/user_features.csv')\n",
    "user_features['gender'] = user_features['gender'].map({'F': 0, 'M': 1})\n",
    "user_features.head(2)"
   ]
  },
  {
   "cell_type": "code",
   "execution_count": 5,
   "metadata": {
    "id": "PSmWJVnKsQav"
   },
   "outputs": [],
   "source": [
    "events = pd.read_csv('../data/events.csv')\n",
    "events = events.merge(item_features, on='item_id')\n",
    "\n",
    "# домножаем на жанр на оценку\n",
    "events_np = events[['genre_' + str(i) for i in range(18)]].values\n",
    "rating_np = events['rating'].values\n",
    "# если пользователь всем ставит низкие оценки, нужно это учесть\n",
    "rating_norm = events.merge(events.groupby('user_id')['rating'].agg('mean').reset_index(), \\\n",
    "            how='left', on='user_id')['rating_y'].values\n",
    "\n",
    "events[['genre_' + str(i) for i in range(18)]] = events_np * \\\n",
    "                              rating_np.reshape(-1, 1) / rating_norm.reshape(-1, 1)\n",
    "\n",
    "\n",
    "events = events.groupby('user_id')[['genre_' + str(i) for i in range(18)]].agg('mean')\n",
    "\n",
    "data = events.reset_index().merge(user_features).set_index('user_id')"
   ]
  },
  {
   "cell_type": "code",
   "execution_count": 7,
   "metadata": {
    "id": "PpQxhX8e0U9O"
   },
   "outputs": [],
   "source": [
    "from sklearn.preprocessing import StandardScaler\n",
    "\n",
    "scaler = StandardScaler()\n",
    "data = scaler.fit_transform(data)"
   ]
  },
  {
   "cell_type": "code",
   "execution_count": 8,
   "metadata": {
    "colab": {
     "base_uri": "https://localhost:8080/"
    },
    "id": "LD5uM6uYNZqB",
    "outputId": "0e4094bc-f80f-4d08-e8b7-07be59943576"
   },
   "outputs": [
    {
     "data": {
      "text/plain": [
       "array([0.62816964, 0.62816964, 0.62816964, ..., 0.62816964, 0.62816964,\n",
       "       0.62816964])"
      ]
     },
     "execution_count": 8,
     "metadata": {},
     "output_type": "execute_result"
    }
   ],
   "source": [
    "data[:, -2]"
   ]
  },
  {
   "cell_type": "code",
   "execution_count": 10,
   "metadata": {
    "id": "2FpwSKa61C4b"
   },
   "outputs": [],
   "source": [
    "import faiss\n",
    "index = faiss.IndexFlatL2(data.shape[1])\n",
    "index.add(data)"
   ]
  },
  {
   "cell_type": "code",
   "execution_count": 11,
   "metadata": {
    "id": "QnEQ93LC1bUG"
   },
   "outputs": [],
   "source": [
    "distances, closest_neighbours = index.search(data, 30)\n",
    "distances = distances[:, 1:]\n",
    "closest_neighbours = closest_neighbours[:, 1:]"
   ]
  },
  {
   "cell_type": "code",
   "execution_count": 12,
   "metadata": {
    "id": "yidCh-Ht5-HB"
   },
   "outputs": [],
   "source": [
    "import warnings\n",
    "warnings.filterwarnings(\"ignore\", category=DeprecationWarning)\n",
    "\n",
    "from tqdm import tqdm"
   ]
  },
  {
   "cell_type": "code",
   "execution_count": 14,
   "metadata": {
    "colab": {
     "base_uri": "https://localhost:8080/"
    },
    "id": "aPyj6CeI2Ce6",
    "outputId": "d7c5de9c-4e98-4dcd-a5ca-b0e1c0d14280"
   },
   "outputs": [
    {
     "name": "stderr",
     "output_type": "stream",
     "text": [
      "100%|█████████████████████████████████████████████████████████████████████████████████| 6040/6040 [01:14<00:00, 81.58it/s]\n"
     ]
    }
   ],
   "source": [
    "events = pd.read_csv('../data/events.csv')\n",
    "\n",
    "seen_films = events.groupby('user_id').apply(lambda df: df['item_id'].values).values\n",
    "\n",
    "def get_films_rec(neighbours_idxs, seen_films):\n",
    "  neighbours = pd.DataFrame(data = neighbours_idxs, columns=['user_id'])\n",
    "  films = neighbours.merge(events, how='left')\n",
    "  films = films[films['rating'] > 3]\n",
    "  films = films.item_id.value_counts()\n",
    "  rec_hyp = films.index.values\n",
    "\n",
    "  rec = []\n",
    "  for i in rec_hyp:\n",
    "    if not i in seen_films:\n",
    "      rec.append(i)\n",
    "\n",
    "    if len(rec) == 10:\n",
    "      break\n",
    "\n",
    "  return rec\n",
    "\n",
    "\n",
    "answ = []\n",
    "for i in tqdm(range(user_features.shape[0])):\n",
    "  answ.append(get_films_rec(closest_neighbours[i], seen_films[i]))"
   ]
  },
  {
   "cell_type": "code",
   "execution_count": 15,
   "metadata": {
    "colab": {
     "base_uri": "https://localhost:8080/"
    },
    "id": "-D7J2uIFs7-A",
    "outputId": "dc4160b0-5f65-4338-b550-1f2170177315"
   },
   "outputs": [
    {
     "data": {
      "text/plain": [
       "(6040, 2)"
      ]
     },
     "execution_count": 15,
     "metadata": {},
     "output_type": "execute_result"
    }
   ],
   "source": [
    "sub = pd.read_csv('../data/submission_sample.csv')\n",
    "sub.shape"
   ]
  },
  {
   "cell_type": "code",
   "execution_count": 16,
   "metadata": {
    "colab": {
     "base_uri": "https://localhost:8080/"
    },
    "id": "hXWyOKjXuEoO",
    "outputId": "455ed908-7cd2-4793-b488-1597b6ff200c"
   },
   "outputs": [
    {
     "data": {
      "text/plain": [
       "array(['0 1 2 3 4 5 6 7 8 9', '0 1 2 3 4 5 6 7 8 9'], dtype=object)"
      ]
     },
     "execution_count": 16,
     "metadata": {},
     "output_type": "execute_result"
    }
   ],
   "source": [
    "sample_sub = pd.read_csv('../data/submission_sample.csv')\n",
    "sample_sub.head(2)['item_id'].values"
   ]
  },
  {
   "cell_type": "code",
   "execution_count": 17,
   "metadata": {
    "id": "fuYd7IlG8BVs"
   },
   "outputs": [],
   "source": [
    "sample_sub['item_id'] = [' '.join(list(map(str, i))) for i in answ]"
   ]
  },
  {
   "cell_type": "code",
   "execution_count": 18,
   "metadata": {
    "id": "eQAONM-y9xTI"
   },
   "outputs": [],
   "source": [
    "sample_sub.to_csv('submission_heuristic_final.csv', index=False)"
   ]
  },
  {
   "cell_type": "code",
   "execution_count": 19,
   "metadata": {
    "colab": {
     "base_uri": "https://localhost:8080/",
     "height": 424
    },
    "id": "1qjRz5mH93jl",
    "outputId": "1b5ff02a-0847-434f-b80f-350afe25027b"
   },
   "outputs": [
    {
     "data": {
      "text/html": [
       "<div>\n",
       "<style scoped>\n",
       "    .dataframe tbody tr th:only-of-type {\n",
       "        vertical-align: middle;\n",
       "    }\n",
       "\n",
       "    .dataframe tbody tr th {\n",
       "        vertical-align: top;\n",
       "    }\n",
       "\n",
       "    .dataframe thead th {\n",
       "        text-align: right;\n",
       "    }\n",
       "</style>\n",
       "<table border=\"1\" class=\"dataframe\">\n",
       "  <thead>\n",
       "    <tr style=\"text-align: right;\">\n",
       "      <th></th>\n",
       "      <th>user_id</th>\n",
       "      <th>item_id</th>\n",
       "    </tr>\n",
       "  </thead>\n",
       "  <tbody>\n",
       "    <tr>\n",
       "      <th>0</th>\n",
       "      <td>0</td>\n",
       "      <td>2732 2256 1811 1808 1543 331 790 69 2688 2630</td>\n",
       "    </tr>\n",
       "    <tr>\n",
       "      <th>1</th>\n",
       "      <td>1</td>\n",
       "      <td>463 1039 3529 208 3153 3046 124 1211 785 36</td>\n",
       "    </tr>\n",
       "    <tr>\n",
       "      <th>2</th>\n",
       "      <td>2</td>\n",
       "      <td>1831 640 2210 1211 1039 463 293 2646 2338 2256</td>\n",
       "    </tr>\n",
       "    <tr>\n",
       "      <th>3</th>\n",
       "      <td>3</td>\n",
       "      <td>3022 2603 3529 3046 2194 3327 183 2281 3005 3692</td>\n",
       "    </tr>\n",
       "    <tr>\n",
       "      <th>4</th>\n",
       "      <td>4</td>\n",
       "      <td>2732 1337 1583 3022 1030 3694 3350 1560 2297 2646</td>\n",
       "    </tr>\n",
       "    <tr>\n",
       "      <th>...</th>\n",
       "      <td>...</td>\n",
       "      <td>...</td>\n",
       "    </tr>\n",
       "    <tr>\n",
       "      <th>6035</th>\n",
       "      <td>6035</td>\n",
       "      <td>36 2510 2784 1337 3529 3234 584 2646 3013 1855</td>\n",
       "    </tr>\n",
       "    <tr>\n",
       "      <th>6036</th>\n",
       "      <td>6036</td>\n",
       "      <td>36 1039 2862 2564 3013 463 3529 2402 989 3153</td>\n",
       "    </tr>\n",
       "    <tr>\n",
       "      <th>6037</th>\n",
       "      <td>6037</td>\n",
       "      <td>1968 472 2402 2688 618 3269 3409 2054 3153 36</td>\n",
       "    </tr>\n",
       "    <tr>\n",
       "      <th>6038</th>\n",
       "      <td>6038</td>\n",
       "      <td>1583 1543 1615 640 476 1315 796 944 1337 3105</td>\n",
       "    </tr>\n",
       "    <tr>\n",
       "      <th>6039</th>\n",
       "      <td>6039</td>\n",
       "      <td>1831 640 2630 3694 1211 3022 1315 3529 2626 3053</td>\n",
       "    </tr>\n",
       "  </tbody>\n",
       "</table>\n",
       "<p>6040 rows × 2 columns</p>\n",
       "</div>"
      ],
      "text/plain": [
       "      user_id                                            item_id\n",
       "0           0      2732 2256 1811 1808 1543 331 790 69 2688 2630\n",
       "1           1        463 1039 3529 208 3153 3046 124 1211 785 36\n",
       "2           2     1831 640 2210 1211 1039 463 293 2646 2338 2256\n",
       "3           3   3022 2603 3529 3046 2194 3327 183 2281 3005 3692\n",
       "4           4  2732 1337 1583 3022 1030 3694 3350 1560 2297 2646\n",
       "...       ...                                                ...\n",
       "6035     6035     36 2510 2784 1337 3529 3234 584 2646 3013 1855\n",
       "6036     6036      36 1039 2862 2564 3013 463 3529 2402 989 3153\n",
       "6037     6037      1968 472 2402 2688 618 3269 3409 2054 3153 36\n",
       "6038     6038      1583 1543 1615 640 476 1315 796 944 1337 3105\n",
       "6039     6039   1831 640 2630 3694 1211 3022 1315 3529 2626 3053\n",
       "\n",
       "[6040 rows x 2 columns]"
      ]
     },
     "execution_count": 19,
     "metadata": {},
     "output_type": "execute_result"
    }
   ],
   "source": [
    "sample_sub"
   ]
  },
  {
   "cell_type": "code",
   "execution_count": null,
   "metadata": {
    "id": "FfOkn98u-f78"
   },
   "outputs": [],
   "source": []
  }
 ],
 "metadata": {
  "colab": {
   "provenance": []
  },
  "kernelspec": {
   "display_name": "Python 3 (ipykernel)",
   "language": "python",
   "name": "python3"
  },
  "language_info": {
   "codemirror_mode": {
    "name": "ipython",
    "version": 3
   },
   "file_extension": ".py",
   "mimetype": "text/x-python",
   "name": "python",
   "nbconvert_exporter": "python",
   "pygments_lexer": "ipython3",
   "version": "3.10.15"
  }
 },
 "nbformat": 4,
 "nbformat_minor": 4
}
