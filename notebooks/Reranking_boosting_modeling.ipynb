{
 "cells": [
  {
   "cell_type": "code",
   "execution_count": 2,
   "id": "5b65cbd9-2c71-4b6a-800b-dadb64d1c3a0",
   "metadata": {
    "id": "5b65cbd9-2c71-4b6a-800b-dadb64d1c3a0"
   },
   "outputs": [
    {
     "name": "stdout",
     "output_type": "stream",
     "text": [
      "Your runtime has 17.2 gigabytes of available RAM\n",
      "\n"
     ]
    },
    {
     "name": "stderr",
     "output_type": "stream",
     "text": [
      "/Users/m1crozavr/Library/Caches/pypoetry/virtualenvs/movie-recommender-QIN-wZY5-py3.10/lib/python3.10/site-packages/tqdm/auto.py:21: TqdmWarning: IProgress not found. Please update jupyter and ipywidgets. See https://ipywidgets.readthedocs.io/en/stable/user_install.html\n",
      "  from .autonotebook import tqdm as notebook_tqdm\n"
     ]
    }
   ],
   "source": [
    "import numpy as np\n",
    "import pandas as pd\n",
    "from psutil import virtual_memory\n",
    "\n",
    "import recsys\n",
    "from catboost import CatBoostClassifier\n",
    "from recsys.boosting.candidates import train_candidates_models\n",
    "from recsys.boosting.feature_engineering import get_engineering_features\n",
    "from recsys.boosting.negative_sampling import sample_random_negatives\n",
    "%load_ext autoreload\n",
    "%autoreload 2\n",
    "\n",
    "ram_gb = virtual_memory().total / 1e9\n",
    "print('Your runtime has {:.1f} gigabytes of available RAM\\n'.format(ram_gb))"
   ]
  },
  {
   "cell_type": "markdown",
   "id": "4a71f010-72b1-42c4-b2db-09394574e6dc",
   "metadata": {},
   "source": [
    "# Data overview"
   ]
  },
  {
   "cell_type": "code",
   "execution_count": 3,
   "id": "da1dfc7d-89b4-427f-80b6-0dbb872398c8",
   "metadata": {
    "colab": {
     "base_uri": "https://localhost:8080/"
    },
    "id": "da1dfc7d-89b4-427f-80b6-0dbb872398c8",
    "outputId": "a8aa6383-ecfc-45c1-8302-6d3f92068d68"
   },
   "outputs": [
    {
     "data": {
      "text/plain": [
       "((3706, 19), (6040, 3), (894149, 4))"
      ]
     },
     "execution_count": 3,
     "metadata": {},
     "output_type": "execute_result"
    }
   ],
   "source": [
    "events_df = pd.read_csv('../data/events.csv')\n",
    "item_features_df = pd.read_csv('../data/item_features.csv')\n",
    "user_features_df = pd.read_csv('../data/user_features.csv')\n",
    "item_features_df.shape, user_features_df.shape, events_df.shape"
   ]
  },
  {
   "cell_type": "code",
   "execution_count": 4,
   "id": "0dc4fe08-67fe-4a7d-930e-65a7885c790b",
   "metadata": {
    "colab": {
     "base_uri": "https://localhost:8080/",
     "height": 226
    },
    "id": "0dc4fe08-67fe-4a7d-930e-65a7885c790b",
    "outputId": "dfa0bf0f-d28d-495e-f656-d13ae4e8e6e0"
   },
   "outputs": [
    {
     "data": {
      "text/html": [
       "<div>\n",
       "<style scoped>\n",
       "    .dataframe tbody tr th:only-of-type {\n",
       "        vertical-align: middle;\n",
       "    }\n",
       "\n",
       "    .dataframe tbody tr th {\n",
       "        vertical-align: top;\n",
       "    }\n",
       "\n",
       "    .dataframe thead th {\n",
       "        text-align: right;\n",
       "    }\n",
       "</style>\n",
       "<table border=\"1\" class=\"dataframe\">\n",
       "  <thead>\n",
       "    <tr style=\"text-align: right;\">\n",
       "      <th></th>\n",
       "      <th>item_id</th>\n",
       "      <th>genre_0</th>\n",
       "      <th>genre_1</th>\n",
       "      <th>genre_2</th>\n",
       "      <th>genre_3</th>\n",
       "      <th>genre_4</th>\n",
       "      <th>genre_5</th>\n",
       "      <th>genre_6</th>\n",
       "      <th>genre_7</th>\n",
       "      <th>genre_8</th>\n",
       "      <th>genre_9</th>\n",
       "      <th>genre_10</th>\n",
       "      <th>genre_11</th>\n",
       "      <th>genre_12</th>\n",
       "      <th>genre_13</th>\n",
       "      <th>genre_14</th>\n",
       "      <th>genre_15</th>\n",
       "      <th>genre_16</th>\n",
       "      <th>genre_17</th>\n",
       "    </tr>\n",
       "  </thead>\n",
       "  <tbody>\n",
       "    <tr>\n",
       "      <th>0</th>\n",
       "      <td>0</td>\n",
       "      <td>0</td>\n",
       "      <td>1</td>\n",
       "      <td>0</td>\n",
       "      <td>1</td>\n",
       "      <td>1</td>\n",
       "      <td>0</td>\n",
       "      <td>0</td>\n",
       "      <td>0</td>\n",
       "      <td>1</td>\n",
       "      <td>0</td>\n",
       "      <td>0</td>\n",
       "      <td>0</td>\n",
       "      <td>0</td>\n",
       "      <td>1</td>\n",
       "      <td>0</td>\n",
       "      <td>0</td>\n",
       "      <td>0</td>\n",
       "      <td>0</td>\n",
       "    </tr>\n",
       "    <tr>\n",
       "      <th>1</th>\n",
       "      <td>1</td>\n",
       "      <td>0</td>\n",
       "      <td>0</td>\n",
       "      <td>0</td>\n",
       "      <td>0</td>\n",
       "      <td>0</td>\n",
       "      <td>0</td>\n",
       "      <td>0</td>\n",
       "      <td>1</td>\n",
       "      <td>0</td>\n",
       "      <td>0</td>\n",
       "      <td>0</td>\n",
       "      <td>0</td>\n",
       "      <td>0</td>\n",
       "      <td>0</td>\n",
       "      <td>0</td>\n",
       "      <td>0</td>\n",
       "      <td>0</td>\n",
       "      <td>0</td>\n",
       "    </tr>\n",
       "  </tbody>\n",
       "</table>\n",
       "</div>"
      ],
      "text/plain": [
       "   item_id  genre_0  genre_1  genre_2  genre_3  genre_4  genre_5  genre_6  \\\n",
       "0        0        0        1        0        1        1        0        0   \n",
       "1        1        0        0        0        0        0        0        0   \n",
       "\n",
       "   genre_7  genre_8  genre_9  genre_10  genre_11  genre_12  genre_13  \\\n",
       "0        0        1        0         0         0         0         1   \n",
       "1        1        0        0         0         0         0         0   \n",
       "\n",
       "   genre_14  genre_15  genre_16  genre_17  \n",
       "0         0         0         0         0  \n",
       "1         0         0         0         0  "
      ]
     },
     "execution_count": 4,
     "metadata": {},
     "output_type": "execute_result"
    }
   ],
   "source": [
    "item_features_df.head(2)"
   ]
  },
  {
   "cell_type": "code",
   "execution_count": 5,
   "id": "32ad0706-23f3-4cdf-bad4-288c274e8bed",
   "metadata": {
    "colab": {
     "base_uri": "https://localhost:8080/",
     "height": 206
    },
    "id": "32ad0706-23f3-4cdf-bad4-288c274e8bed",
    "outputId": "87d49113-c6e1-482a-bc71-13942be714f6"
   },
   "outputs": [
    {
     "data": {
      "text/html": [
       "<div>\n",
       "<style scoped>\n",
       "    .dataframe tbody tr th:only-of-type {\n",
       "        vertical-align: middle;\n",
       "    }\n",
       "\n",
       "    .dataframe tbody tr th {\n",
       "        vertical-align: top;\n",
       "    }\n",
       "\n",
       "    .dataframe thead th {\n",
       "        text-align: right;\n",
       "    }\n",
       "</style>\n",
       "<table border=\"1\" class=\"dataframe\">\n",
       "  <thead>\n",
       "    <tr style=\"text-align: right;\">\n",
       "      <th></th>\n",
       "      <th>user_id</th>\n",
       "      <th>gender</th>\n",
       "      <th>age</th>\n",
       "    </tr>\n",
       "  </thead>\n",
       "  <tbody>\n",
       "    <tr>\n",
       "      <th>0</th>\n",
       "      <td>4855</td>\n",
       "      <td>F</td>\n",
       "      <td>1</td>\n",
       "    </tr>\n",
       "    <tr>\n",
       "      <th>1</th>\n",
       "      <td>4065</td>\n",
       "      <td>M</td>\n",
       "      <td>56</td>\n",
       "    </tr>\n",
       "  </tbody>\n",
       "</table>\n",
       "</div>"
      ],
      "text/plain": [
       "   user_id gender  age\n",
       "0     4855      F    1\n",
       "1     4065      M   56"
      ]
     },
     "execution_count": 5,
     "metadata": {},
     "output_type": "execute_result"
    }
   ],
   "source": [
    "user_features_df.head(2)"
   ]
  },
  {
   "cell_type": "code",
   "execution_count": 6,
   "id": "a7992d7f-9a69-4b46-90ea-2617cdf08732",
   "metadata": {
    "colab": {
     "base_uri": "https://localhost:8080/",
     "height": 206
    },
    "id": "a7992d7f-9a69-4b46-90ea-2617cdf08732",
    "outputId": "f774922f-e85b-4ba9-9e6a-e17cc74704b6"
   },
   "outputs": [
    {
     "data": {
      "text/html": [
       "<div>\n",
       "<style scoped>\n",
       "    .dataframe tbody tr th:only-of-type {\n",
       "        vertical-align: middle;\n",
       "    }\n",
       "\n",
       "    .dataframe tbody tr th {\n",
       "        vertical-align: top;\n",
       "    }\n",
       "\n",
       "    .dataframe thead th {\n",
       "        text-align: right;\n",
       "    }\n",
       "</style>\n",
       "<table border=\"1\" class=\"dataframe\">\n",
       "  <thead>\n",
       "    <tr style=\"text-align: right;\">\n",
       "      <th></th>\n",
       "      <th>user_id</th>\n",
       "      <th>item_id</th>\n",
       "      <th>rating</th>\n",
       "      <th>timestamp</th>\n",
       "    </tr>\n",
       "  </thead>\n",
       "  <tbody>\n",
       "    <tr>\n",
       "      <th>0</th>\n",
       "      <td>0</td>\n",
       "      <td>1505</td>\n",
       "      <td>4</td>\n",
       "      <td>0</td>\n",
       "    </tr>\n",
       "    <tr>\n",
       "      <th>1</th>\n",
       "      <td>0</td>\n",
       "      <td>3669</td>\n",
       "      <td>3</td>\n",
       "      <td>1</td>\n",
       "    </tr>\n",
       "  </tbody>\n",
       "</table>\n",
       "</div>"
      ],
      "text/plain": [
       "   user_id  item_id  rating  timestamp\n",
       "0        0     1505       4          0\n",
       "1        0     3669       3          1"
      ]
     },
     "execution_count": 6,
     "metadata": {},
     "output_type": "execute_result"
    }
   ],
   "source": [
    "events_df.head(2)"
   ]
  },
  {
   "cell_type": "code",
   "execution_count": 7,
   "id": "d585ee2f-2d55-4f9c-adc0-2917549ccfb2",
   "metadata": {
    "colab": {
     "base_uri": "https://localhost:8080/"
    },
    "id": "d585ee2f-2d55-4f9c-adc0-2917549ccfb2",
    "outputId": "01ce0288-965a-48c6-9743-eea0cdb78409"
   },
   "outputs": [
    {
     "name": "stdout",
     "output_type": "stream",
     "text": [
      "Total users: 6040; Total items: 3706\n",
      "Number of users in events: 6040\n",
      "Number of items in events: 3690\n",
      "Number of timestamps in events: 2256\n"
     ]
    }
   ],
   "source": [
    "n_users = user_features_df['user_id'].nunique()\n",
    "n_items = item_features_df['item_id'].nunique()\n",
    "print(f'Total users: {n_users}; Total items: {n_items}')\n",
    "print('Number of users in events:', events_df['user_id'].nunique())\n",
    "print('Number of items in events:', events_df['item_id'].nunique())\n",
    "print('Number of timestamps in events:', events_df['timestamp'].nunique())"
   ]
  },
  {
   "cell_type": "code",
   "execution_count": 8,
   "id": "5ae1f031-4f56-4abc-a565-c6f765acab29",
   "metadata": {
    "colab": {
     "base_uri": "https://localhost:8080/",
     "height": 272
    },
    "id": "5ae1f031-4f56-4abc-a565-c6f765acab29",
    "outputId": "90b380a6-d725-4f9b-f98e-8247195fbb59"
   },
   "outputs": [
    {
     "data": {
      "text/plain": [
       "rating\n",
       "4    312170\n",
       "3    233824\n",
       "5    201898\n",
       "2     96001\n",
       "1     50256\n",
       "Name: count, dtype: int64"
      ]
     },
     "execution_count": 8,
     "metadata": {},
     "output_type": "execute_result"
    }
   ],
   "source": [
    "events_df['rating'].value_counts()"
   ]
  },
  {
   "cell_type": "code",
   "execution_count": 9,
   "id": "ca673056-9d2c-4871-976c-029a457ac8fd",
   "metadata": {
    "colab": {
     "base_uri": "https://localhost:8080/",
     "height": 272
    },
    "id": "ca673056-9d2c-4871-976c-029a457ac8fd",
    "outputId": "8e3c8aac-9c08-44ee-812f-05d23be76ad3"
   },
   "outputs": [
    {
     "data": {
      "text/plain": [
       "user_id\n",
       "0    [0, 1, 2, 3, 4, 5, 7, 8, 9, 10, 12, 13, 14, 15...\n",
       "1    [0, 1, 2, 3, 6, 8, 9, 10, 11, 12, 13, 14, 15, ...\n",
       "2    [0, 1, 2, 3, 4, 5, 6, 7, 8, 9, 11, 14, 15, 16,...\n",
       "3    [0, 1, 2, 3, 4, 6, 8, 9, 10, 11, 12, 13, 14, 1...\n",
       "4    [0, 1, 2, 3, 4, 5, 6, 8, 9, 10, 11, 12, 13, 14...\n",
       "Name: timestamp, dtype: object"
      ]
     },
     "execution_count": 9,
     "metadata": {},
     "output_type": "execute_result"
    }
   ],
   "source": [
    "events_df.groupby('user_id')['timestamp'].apply(list).head(5)"
   ]
  },
  {
   "cell_type": "code",
   "execution_count": 10,
   "id": "26550bcc-7afb-4831-af19-4c480c099648",
   "metadata": {
    "colab": {
     "base_uri": "https://localhost:8080/",
     "height": 335
    },
    "id": "26550bcc-7afb-4831-af19-4c480c099648",
    "outputId": "957f1b66-e37a-48a5-9eba-3ed31d6fbdbb"
   },
   "outputs": [
    {
     "data": {
      "text/plain": [
       "count    6040.000000\n",
       "mean      148.037914\n",
       "std       173.461681\n",
       "min        14.000000\n",
       "25%        38.000000\n",
       "50%        84.500000\n",
       "75%       186.000000\n",
       "max      2056.000000\n",
       "Name: item_id, dtype: float64"
      ]
     },
     "execution_count": 10,
     "metadata": {},
     "output_type": "execute_result"
    }
   ],
   "source": [
    "# В среднем у пользователя 148 просмотренных фильма\n",
    "# По медиане у пользователя 84.5 просмотренных фильма\n",
    "# Минимум просмотренных фильмов одним пользователем = 14\n",
    "# Максимум просмотренных фильмов одним пользователем = 2056\n",
    "# Пользователь не смотрел один фильм два раза\n",
    "events_df.groupby('user_id')['item_id'].nunique().describe()"
   ]
  },
  {
   "cell_type": "markdown",
   "id": "06fe0d89-3643-4943-afb9-3cf933165327",
   "metadata": {},
   "source": [
    "# Candidates scoring"
   ]
  },
  {
   "cell_type": "code",
   "execution_count": 11,
   "id": "3fb41cdb-4617-450a-8e97-d4b5a2d2ba7f",
   "metadata": {
    "colab": {
     "base_uri": "https://localhost:8080/"
    },
    "id": "3fb41cdb-4617-450a-8e97-d4b5a2d2ba7f",
    "outputId": "9148939b-c392-412c-a2f9-7c147c68646a"
   },
   "outputs": [
    {
     "name": "stderr",
     "output_type": "stream",
     "text": [
      "/var/folders/54/4ddst_yx3mg1gl0d728ndsrr0000gn/T/ipykernel_74613/4058051540.py:11: DeprecationWarning: DataFrameGroupBy.apply operated on the grouping columns. This behavior is deprecated, and in a future version of pandas the grouping columns will be excluded from the operation. Either pass `include_groups=False` to exclude the groupings or explicitly select the grouping columns after groupby to silence this warning.\n",
      "  ).groupby('user_id').apply(truncate_rows).reset_index(drop=True)\n"
     ]
    }
   ],
   "source": [
    "# Для обучения модели отбора кандидатов возьму долю от количества интеракций пользователя\n",
    "CANDIDATES_TRAIN_SHARE = 2/3\n",
    "\n",
    "def truncate_rows(group):\n",
    "    n_rows = int(len(group) * CANDIDATES_TRAIN_SHARE)\n",
    "    return group.head(n_rows)\n",
    "\n",
    "\n",
    "candidates_df = events_df.sort_values(\n",
    "    ['user_id', 'timestamp']\n",
    ").groupby('user_id').apply(truncate_rows).reset_index(drop=True)"
   ]
  },
  {
   "cell_type": "code",
   "execution_count": 12,
   "id": "38db969f-3bc5-4d6c-8335-1aae480644f6",
   "metadata": {
    "colab": {
     "base_uri": "https://localhost:8080/"
    },
    "id": "38db969f-3bc5-4d6c-8335-1aae480644f6",
    "outputId": "6379a8b4-bf62-4f45-b2a2-59c9d9b65036"
   },
   "outputs": [
    {
     "data": {
      "text/plain": [
       "(6040, 3620)"
      ]
     },
     "execution_count": 12,
     "metadata": {},
     "output_type": "execute_result"
    }
   ],
   "source": [
    "candidates_df['user_id'].nunique(), candidates_df['item_id'].nunique()"
   ]
  },
  {
   "cell_type": "code",
   "execution_count": 13,
   "id": "2fd0c830-0bc0-4e43-a2a4-4789d4117aac",
   "metadata": {
    "colab": {
     "base_uri": "https://localhost:8080/",
     "height": 206
    },
    "id": "2fd0c830-0bc0-4e43-a2a4-4789d4117aac",
    "outputId": "e27dccbf-790e-4e1d-a59a-61646bd9801e"
   },
   "outputs": [
    {
     "data": {
      "text/html": [
       "<div>\n",
       "<style scoped>\n",
       "    .dataframe tbody tr th:only-of-type {\n",
       "        vertical-align: middle;\n",
       "    }\n",
       "\n",
       "    .dataframe tbody tr th {\n",
       "        vertical-align: top;\n",
       "    }\n",
       "\n",
       "    .dataframe thead th {\n",
       "        text-align: right;\n",
       "    }\n",
       "</style>\n",
       "<table border=\"1\" class=\"dataframe\">\n",
       "  <thead>\n",
       "    <tr style=\"text-align: right;\">\n",
       "      <th></th>\n",
       "      <th>user_id</th>\n",
       "      <th>item_id</th>\n",
       "      <th>rating</th>\n",
       "      <th>timestamp</th>\n",
       "      <th>weight</th>\n",
       "    </tr>\n",
       "  </thead>\n",
       "  <tbody>\n",
       "    <tr>\n",
       "      <th>0</th>\n",
       "      <td>0</td>\n",
       "      <td>1505</td>\n",
       "      <td>4</td>\n",
       "      <td>0</td>\n",
       "      <td>4</td>\n",
       "    </tr>\n",
       "    <tr>\n",
       "      <th>1</th>\n",
       "      <td>0</td>\n",
       "      <td>3669</td>\n",
       "      <td>3</td>\n",
       "      <td>1</td>\n",
       "      <td>3</td>\n",
       "    </tr>\n",
       "    <tr>\n",
       "      <th>2</th>\n",
       "      <td>0</td>\n",
       "      <td>584</td>\n",
       "      <td>4</td>\n",
       "      <td>2</td>\n",
       "      <td>4</td>\n",
       "    </tr>\n",
       "    <tr>\n",
       "      <th>3</th>\n",
       "      <td>0</td>\n",
       "      <td>3390</td>\n",
       "      <td>3</td>\n",
       "      <td>3</td>\n",
       "      <td>3</td>\n",
       "    </tr>\n",
       "    <tr>\n",
       "      <th>4</th>\n",
       "      <td>0</td>\n",
       "      <td>2885</td>\n",
       "      <td>4</td>\n",
       "      <td>4</td>\n",
       "      <td>4</td>\n",
       "    </tr>\n",
       "  </tbody>\n",
       "</table>\n",
       "</div>"
      ],
      "text/plain": [
       "   user_id  item_id  rating  timestamp  weight\n",
       "0        0     1505       4          0       4\n",
       "1        0     3669       3          1       3\n",
       "2        0      584       4          2       4\n",
       "3        0     3390       3          3       3\n",
       "4        0     2885       4          4       4"
      ]
     },
     "execution_count": 13,
     "metadata": {},
     "output_type": "execute_result"
    }
   ],
   "source": [
    "candidates_df['weight'] = candidates_df['rating'].apply(lambda x: -1 * x if x <= 2 else x)\n",
    "candidates_df.head()"
   ]
  },
  {
   "cell_type": "code",
   "execution_count": 14,
   "id": "d7d2264c-8b78-467d-a532-59d9428cf78e",
   "metadata": {
    "colab": {
     "base_uri": "https://localhost:8080/"
    },
    "id": "d7d2264c-8b78-467d-a532-59d9428cf78e",
    "outputId": "a54a37b2-6c39-4188-99c8-ef0daeebb8f5"
   },
   "outputs": [
    {
     "name": "stderr",
     "output_type": "stream",
     "text": [
      "/Users/m1crozavr/Library/Caches/pypoetry/virtualenvs/movie-recommender-QIN-wZY5-py3.10/lib/python3.10/site-packages/implicit/cpu/als.py:95: RuntimeWarning: OpenBLAS is configured to use 10 threads. It is highly recommended to disable its internal threadpool by setting the environment variable 'OPENBLAS_NUM_THREADS=1' or by calling 'threadpoolctl.threadpool_limits(1, \"blas\")'. Having OpenBLAS use a threadpool can lead to severe performance issues here.\n",
      "  check_blas_config()\n",
      "100%|█████████████████████████████████████████████████████████████████████████| 50/50 [00:16<00:00,  2.95it/s, loss=0.037]\n",
      "100%|█████████████████████████████████████████████████| 200/200 [00:16<00:00, 11.89it/s, train_auc=93.93%, skipped=18.11%]\n",
      "100%|█████████████████████████████████████████████████████████████████████████████████████| 60/60 [00:05<00:00, 11.82it/s]\n",
      "/Users/m1crozavr/Library/Caches/pypoetry/virtualenvs/movie-recommender-QIN-wZY5-py3.10/lib/python3.10/site-packages/implicit/utils.py:164: ParameterWarning: Method expects CSR input, and was passed coo_matrix instead. Converting to CSR took 0.002618074417114258 seconds\n",
      "  warnings.warn(\n",
      "100%|██████████████████████████████████████████████████████████████████████████████| 3706/3706 [00:00<00:00, 17196.73it/s]\n"
     ]
    }
   ],
   "source": [
    "candidates_model, candidates_scores = train_candidates_models(candidates_df, n_users, n_items)"
   ]
  },
  {
   "cell_type": "code",
   "execution_count": 15,
   "id": "5669cab4-6503-4712-9aeb-64920bc05b29",
   "metadata": {},
   "outputs": [
    {
     "name": "stdout",
     "output_type": "stream",
     "text": [
      "Number of candidates model: 4\n"
     ]
    }
   ],
   "source": [
    "print(f'Number of candidates model: {len(candidates_model) + len(candidates_scores)}')"
   ]
  },
  {
   "cell_type": "markdown",
   "id": "1f72af16-fa8a-43c5-9c17-bca2c2583484",
   "metadata": {
    "id": "1f72af16-fa8a-43c5-9c17-bca2c2583484"
   },
   "source": [
    "# Ranking"
   ]
  },
  {
   "cell_type": "code",
   "execution_count": 25,
   "id": "a7462f5e-b174-43b5-b560-a094def4edc0",
   "metadata": {
    "colab": {
     "base_uri": "https://localhost:8080/"
    },
    "id": "a7462f5e-b174-43b5-b560-a094def4edc0",
    "outputId": "8c6c1cf1-1e5b-41fa-fff4-d9399fd5cd59"
   },
   "outputs": [
    {
     "name": "stderr",
     "output_type": "stream",
     "text": [
      "/var/folders/54/4ddst_yx3mg1gl0d728ndsrr0000gn/T/ipykernel_74613/4049309157.py:17: DeprecationWarning: DataFrameGroupBy.apply operated on the grouping columns. This behavior is deprecated, and in a future version of pandas the grouping columns will be excluded from the operation. Either pass `include_groups=False` to exclude the groupings or explicitly select the grouping columns after groupby to silence this warning.\n",
      "  ).groupby('user_id').apply(truncate_rows).reset_index(drop=True)\n"
     ]
    }
   ],
   "source": [
    "# Для обучения модели ранжирования возьму все до последнего (не включительно) оставшихся интеракций пользователя\n",
    "def truncate_rows(group):\n",
    "    n_rows = len(group) - 1\n",
    "    return group.head(n_rows)\n",
    "\n",
    "\n",
    "ranking_df = pd.merge(\n",
    "    events_df,\n",
    "    candidates_df[['user_id', 'item_id', 'timestamp']].assign(__tmp__=True),\n",
    "    on=['user_id', 'item_id', 'timestamp'],\n",
    "    how='left'\n",
    ")\n",
    "\n",
    "ranking_df = ranking_df[ranking_df['__tmp__'].isna()].drop('__tmp__', axis=1)\n",
    "ranking_df = ranking_df.sort_values(\n",
    "    ['user_id', 'timestamp']\n",
    ").groupby('user_id').apply(truncate_rows).reset_index(drop=True)\n",
    "ranking_df['weight'] = ranking_df['rating'].apply(lambda x: -1 * x if x <= 2 else x)\n",
    "# ranking_df = ranking_df[ranking_df['weight'] > 0]\n",
    "# ranking_df['target'] = 1"
   ]
  },
  {
   "cell_type": "markdown",
   "id": "mXS5Hjm6Fgdd",
   "metadata": {
    "id": "mXS5Hjm6Fgdd"
   },
   "source": [
    "## Features for ranking\n",
    "User-based\n",
    "\n",
    "Item-based"
   ]
  },
  {
   "cell_type": "code",
   "execution_count": 26,
   "id": "8cd041d2-cfff-4465-b0da-7566e970328a",
   "metadata": {},
   "outputs": [],
   "source": [
    "user_feature_engineering_df, item_feature_engineering_df = get_engineering_features(\n",
    "    candidates_df,\n",
    "    user_features_data=user_features_df,\n",
    "    item_features_data=item_features_df\n",
    ")"
   ]
  },
  {
   "cell_type": "code",
   "execution_count": 27,
   "id": "f6da2f6b-7e65-4a10-8c65-9a6c86aab5b1",
   "metadata": {
    "id": "f6da2f6b-7e65-4a10-8c65-9a6c86aab5b1"
   },
   "outputs": [],
   "source": [
    "ranking_negatives_df = sample_random_negatives(\n",
    "    pd.concat(\n",
    "        (\n",
    "            candidates_df.loc[candidates_df['weight'] > 0, ['user_id', 'item_id', 'timestamp']],\n",
    "            ranking_df.loc[ranking_df['weight'] > 0, ['user_id', 'item_id', 'timestamp']]\n",
    "        ),\n",
    "        ignore_index=True\n",
    "    ),\n",
    "    n_items=n_items\n",
    ")"
   ]
  },
  {
   "cell_type": "code",
   "execution_count": 28,
   "id": "9354f35b-6ec5-48af-ab44-77364b46fafa",
   "metadata": {
    "id": "9354f35b-6ec5-48af-ab44-77364b46fafa"
   },
   "outputs": [],
   "source": [
    "ranking_total_df = pd.concat(\n",
    "    (\n",
    "        ranking_df[ranking_df['weight'] > 0].assign(target=1)[['user_id', 'item_id', 'target']],\n",
    "        ranking_negatives_df[['user_id', 'item_id', 'target']]\n",
    "    ),\n",
    "    ignore_index=True\n",
    ").sample(frac=1)"
   ]
  },
  {
   "cell_type": "code",
   "execution_count": 29,
   "id": "2f05327a-f5e3-49ec-b4ee-6ca03c38a2d0",
   "metadata": {
    "id": "2f05327a-f5e3-49ec-b4ee-6ca03c38a2d0"
   },
   "outputs": [],
   "source": [
    "for i, model in enumerate(candidates_model):\n",
    "    ui_scores = (model.user_factors @ model.item_factors.T)\n",
    "    ranking_total_df[f'colaborative_model{i}'] = ranking_total_df.apply(lambda row: ui_scores[row['user_id'], row['item_id']], axis=1)\n",
    "\n",
    "for i, scores in enumerate(candidates_scores):\n",
    "    ui_scores = np.clip(scores, -10, None)\n",
    "    ranking_total_df[f'i2i_model{i}'] = ranking_total_df.apply(lambda row: ui_scores[row['user_id'], row['item_id']], axis=1)"
   ]
  },
  {
   "cell_type": "code",
   "execution_count": 31,
   "id": "76bb45cb-3e09-42ba-bcf7-a050c5b67f88",
   "metadata": {
    "id": "76bb45cb-3e09-42ba-bcf7-a050c5b67f88"
   },
   "outputs": [],
   "source": [
    "ranking_total_df = ranking_total_df.merge(\n",
    "    user_feature_engineering_df,\n",
    "    on='user_id',\n",
    "    how='left'\n",
    ").merge(\n",
    "    item_feature_engineering_df,\n",
    "    on='item_id',\n",
    "    how='left'\n",
    ")"
   ]
  },
  {
   "cell_type": "code",
   "execution_count": 32,
   "id": "a5def24c-69fa-4e14-88f1-9036937e38b3",
   "metadata": {
    "colab": {
     "base_uri": "https://localhost:8080/"
    },
    "id": "a5def24c-69fa-4e14-88f1-9036937e38b3",
    "outputId": "1f89c1a9-2f67-4e18-b21f-c11e1a3375f1",
    "scrolled": true
   },
   "outputs": [
    {
     "name": "stdout",
     "output_type": "stream",
     "text": [
      "Learning rate set to 0.249767\n",
      "0:\tlearn: 0.4286874\ttotal: 120ms\tremaining: 1m 59s\n",
      "50:\tlearn: 0.2240355\ttotal: 5.01s\tremaining: 1m 33s\n",
      "100:\tlearn: 0.2203482\ttotal: 9.79s\tremaining: 1m 27s\n",
      "150:\tlearn: 0.2177696\ttotal: 14.7s\tremaining: 1m 22s\n",
      "200:\tlearn: 0.2156786\ttotal: 19.6s\tremaining: 1m 17s\n",
      "250:\tlearn: 0.2139314\ttotal: 24.4s\tremaining: 1m 12s\n",
      "300:\tlearn: 0.2122865\ttotal: 29.1s\tremaining: 1m 7s\n",
      "350:\tlearn: 0.2108105\ttotal: 33.9s\tremaining: 1m 2s\n",
      "400:\tlearn: 0.2094538\ttotal: 38.9s\tremaining: 58.1s\n",
      "450:\tlearn: 0.2082191\ttotal: 44s\tremaining: 53.6s\n",
      "500:\tlearn: 0.2070336\ttotal: 48.6s\tremaining: 48.4s\n",
      "550:\tlearn: 0.2059478\ttotal: 53.5s\tremaining: 43.6s\n",
      "600:\tlearn: 0.2047412\ttotal: 58.1s\tremaining: 38.6s\n",
      "650:\tlearn: 0.2035949\ttotal: 1m 2s\tremaining: 33.7s\n",
      "700:\tlearn: 0.2026583\ttotal: 1m 7s\tremaining: 28.8s\n",
      "750:\tlearn: 0.2017174\ttotal: 1m 12s\tremaining: 23.9s\n",
      "800:\tlearn: 0.2007746\ttotal: 1m 16s\tremaining: 19s\n",
      "850:\tlearn: 0.1997864\ttotal: 1m 21s\tremaining: 14.3s\n",
      "900:\tlearn: 0.1988909\ttotal: 1m 26s\tremaining: 9.49s\n",
      "950:\tlearn: 0.1980309\ttotal: 1m 30s\tremaining: 4.69s\n",
      "999:\tlearn: 0.1971535\ttotal: 1m 35s\tremaining: 0us\n"
     ]
    }
   ],
   "source": [
    "clf = CatBoostClassifier(random_state=777, cat_features=['gender'])\n",
    "clf.fit(ranking_total_df.drop(['user_id', 'item_id', 'target'], axis=1), ranking_total_df['target'], verbose_eval=50);"
   ]
  },
  {
   "cell_type": "code",
   "execution_count": 23,
   "id": "270b4cc5-f230-4447-befe-671182ec97e3",
   "metadata": {},
   "outputs": [
    {
     "data": {
      "text/plain": [
       "((294017, 5), (594092, 5))"
      ]
     },
     "execution_count": 23,
     "metadata": {},
     "output_type": "execute_result"
    }
   ],
   "source": [
    "ranking_df.shape, candidates_df.shape"
   ]
  },
  {
   "cell_type": "code",
   "execution_count": 33,
   "id": "dbeb3e0f-057a-403c-95a8-8d767b57bf02",
   "metadata": {},
   "outputs": [
    {
     "name": "stderr",
     "output_type": "stream",
     "text": [
      "100%|████████████████████████████████████████████████████████████████████████| 50/50 [00:21<00:00,  2.30it/s, loss=0.0518]\n",
      "100%|█████████████████████████████████████████████████| 200/200 [00:27<00:00,  7.29it/s, train_auc=92.37%, skipped=22.93%]\n",
      "100%|█████████████████████████████████████████████████████████████████████████████████████| 60/60 [00:07<00:00,  8.31it/s]\n",
      "/Users/m1crozavr/Library/Caches/pypoetry/virtualenvs/movie-recommender-QIN-wZY5-py3.10/lib/python3.10/site-packages/implicit/utils.py:164: ParameterWarning: Method expects CSR input, and was passed coo_matrix instead. Converting to CSR took 0.0038442611694335938 seconds\n",
      "  warnings.warn(\n",
      "100%|██████████████████████████████████████████████████████████████████████████████| 3706/3706 [00:00<00:00, 10363.88it/s]\n"
     ]
    }
   ],
   "source": [
    "# Refit candidates models\n",
    "candidates_model, candidates_scores = train_candidates_models(\n",
    "    pd.concat(\n",
    "        (\n",
    "            candidates_df,\n",
    "            ranking_df\n",
    "        ),\n",
    "        ignore_index=True\n",
    "    ),\n",
    "    n_users,\n",
    "    n_items\n",
    ")"
   ]
  },
  {
   "cell_type": "code",
   "execution_count": 34,
   "id": "eca11a84-f881-4512-84be-e6f6d4cc2398",
   "metadata": {
    "id": "eca11a84-f881-4512-84be-e6f6d4cc2398"
   },
   "outputs": [],
   "source": [
    "inference_df = events_df.groupby('user_id')['item_id'].apply(\n",
    "    lambda x: list(range(n_items))\n",
    ").reset_index().explode('item_id')\n",
    "\n",
    "for i, model in enumerate(candidates_model):\n",
    "    ui_scores = (model.user_factors @ model.item_factors.T)\n",
    "    inference_df[f'colaborative_model{i}'] = inference_df.apply(lambda row: ui_scores[row['user_id'], row['item_id']], axis=1)\n",
    "\n",
    "for i, scores in enumerate(candidates_scores):\n",
    "    ui_scores = np.clip(scores, -10, None)\n",
    "    inference_df[f'i2i_model{i}'] = inference_df.apply(lambda row: ui_scores[row['user_id'], row['item_id']], axis=1)"
   ]
  },
  {
   "cell_type": "code",
   "execution_count": 35,
   "id": "34ef2d5a-9ecd-43be-a8ce-6c0b5f929bed",
   "metadata": {
    "id": "34ef2d5a-9ecd-43be-a8ce-6c0b5f929bed"
   },
   "outputs": [],
   "source": [
    "inference_df = inference_df.merge(\n",
    "    user_feature_engineering_df,\n",
    "    on='user_id',\n",
    "    how='left'\n",
    ").merge(\n",
    "    item_feature_engineering_df,\n",
    "    on='item_id',\n",
    "    how='left'\n",
    ")"
   ]
  },
  {
   "cell_type": "code",
   "execution_count": 36,
   "id": "db820fc5-b61a-419d-bdd8-af7defde4c63",
   "metadata": {
    "colab": {
     "base_uri": "https://localhost:8080/"
    },
    "id": "db820fc5-b61a-419d-bdd8-af7defde4c63",
    "outputId": "2afb3423-4a61-44b6-ed4b-c487b543c289"
   },
   "outputs": [
    {
     "name": "stderr",
     "output_type": "stream",
     "text": [
      "/var/folders/54/4ddst_yx3mg1gl0d728ndsrr0000gn/T/ipykernel_74613/4240543254.py:2: SettingWithCopyWarning: \n",
      "A value is trying to be set on a copy of a slice from a DataFrame.\n",
      "Try using .loc[row_indexer,col_indexer] = value instead\n",
      "\n",
      "See the caveats in the documentation: https://pandas.pydata.org/pandas-docs/stable/user_guide/indexing.html#returning-a-view-versus-a-copy\n",
      "  result_df['ranking_score'] = clf.predict_proba(inference_df.drop(['user_id', 'item_id'], axis=1))[:, 1]\n"
     ]
    }
   ],
   "source": [
    "result_df = inference_df[['user_id', 'item_id']]\n",
    "result_df['ranking_score'] = clf.predict_proba(inference_df.drop(['user_id', 'item_id'], axis=1))[:, 1]"
   ]
  },
  {
   "cell_type": "code",
   "execution_count": 37,
   "id": "af3416b6-fdc6-4c5e-81f3-fe17b1f4142c",
   "metadata": {
    "colab": {
     "base_uri": "https://localhost:8080/",
     "height": 206
    },
    "id": "af3416b6-fdc6-4c5e-81f3-fe17b1f4142c",
    "outputId": "e638d1cb-b187-467e-cf71-f763d41273df"
   },
   "outputs": [
    {
     "data": {
      "text/html": [
       "<div>\n",
       "<style scoped>\n",
       "    .dataframe tbody tr th:only-of-type {\n",
       "        vertical-align: middle;\n",
       "    }\n",
       "\n",
       "    .dataframe tbody tr th {\n",
       "        vertical-align: top;\n",
       "    }\n",
       "\n",
       "    .dataframe thead th {\n",
       "        text-align: right;\n",
       "    }\n",
       "</style>\n",
       "<table border=\"1\" class=\"dataframe\">\n",
       "  <thead>\n",
       "    <tr style=\"text-align: right;\">\n",
       "      <th></th>\n",
       "      <th>user_id</th>\n",
       "      <th>item_id</th>\n",
       "      <th>ranking_score</th>\n",
       "    </tr>\n",
       "  </thead>\n",
       "  <tbody>\n",
       "    <tr>\n",
       "      <th>0</th>\n",
       "      <td>0</td>\n",
       "      <td>0</td>\n",
       "      <td>0.167862</td>\n",
       "    </tr>\n",
       "    <tr>\n",
       "      <th>1</th>\n",
       "      <td>0</td>\n",
       "      <td>1</td>\n",
       "      <td>0.002595</td>\n",
       "    </tr>\n",
       "    <tr>\n",
       "      <th>2</th>\n",
       "      <td>0</td>\n",
       "      <td>2</td>\n",
       "      <td>0.120919</td>\n",
       "    </tr>\n",
       "    <tr>\n",
       "      <th>3</th>\n",
       "      <td>0</td>\n",
       "      <td>3</td>\n",
       "      <td>0.082452</td>\n",
       "    </tr>\n",
       "    <tr>\n",
       "      <th>4</th>\n",
       "      <td>0</td>\n",
       "      <td>4</td>\n",
       "      <td>0.009002</td>\n",
       "    </tr>\n",
       "  </tbody>\n",
       "</table>\n",
       "</div>"
      ],
      "text/plain": [
       "   user_id item_id  ranking_score\n",
       "0        0       0       0.167862\n",
       "1        0       1       0.002595\n",
       "2        0       2       0.120919\n",
       "3        0       3       0.082452\n",
       "4        0       4       0.009002"
      ]
     },
     "execution_count": 37,
     "metadata": {},
     "output_type": "execute_result"
    }
   ],
   "source": [
    "result_df.head()"
   ]
  },
  {
   "cell_type": "code",
   "execution_count": 38,
   "id": "21cb2000-e514-403a-9c72-0177adadd438",
   "metadata": {
    "colab": {
     "base_uri": "https://localhost:8080/",
     "height": 335
    },
    "id": "21cb2000-e514-403a-9c72-0177adadd438",
    "outputId": "d667309f-16d3-44bd-b1e2-499331978856"
   },
   "outputs": [
    {
     "data": {
      "text/plain": [
       "count    2.238424e+07\n",
       "mean     9.717208e-02\n",
       "std      1.842990e-01\n",
       "min      1.388585e-06\n",
       "25%      1.063400e-03\n",
       "50%      8.584715e-03\n",
       "75%      8.441030e-02\n",
       "max      9.994393e-01\n",
       "Name: ranking_score, dtype: float64"
      ]
     },
     "execution_count": 38,
     "metadata": {},
     "output_type": "execute_result"
    }
   ],
   "source": [
    "result_df['ranking_score'].describe()"
   ]
  },
  {
   "cell_type": "code",
   "execution_count": 39,
   "id": "677be22f-9ffa-4164-bdf5-dce568e2c913",
   "metadata": {
    "id": "677be22f-9ffa-4164-bdf5-dce568e2c913"
   },
   "outputs": [],
   "source": [
    "# Remove previously recommended\n",
    "result_filtered_df = result_df.merge(\n",
    "    candidates_df[['user_id', 'item_id']].assign(__tmp__=True),\n",
    "    on=['user_id', 'item_id'],\n",
    "    how='left'\n",
    ")\n",
    "result_filtered_df = result_filtered_df[result_filtered_df['__tmp__'].isna()].drop('__tmp__', axis=1)\n",
    "\n",
    "result_filtered_df = result_filtered_df.merge(\n",
    "    ranking_df[['user_id', 'item_id']].assign(__tmp__=True),\n",
    "    on=['user_id', 'item_id'],\n",
    "    how='left'\n",
    ")\n",
    "result_filtered_df = result_filtered_df[result_filtered_df['__tmp__'].isna()].drop('__tmp__', axis=1)\n",
    "\n",
    "result_filtered_df = result_filtered_df.sort_values('ranking_score', ascending=False).groupby('user_id')['item_id'].apply(\n",
    "    lambda item_ids: ' '.join(map(str, item_ids.tolist()[:10]))\n",
    ")"
   ]
  },
  {
   "cell_type": "code",
   "execution_count": 40,
   "id": "bd086eea-92a7-44df-aed1-07617c6f039e",
   "metadata": {
    "colab": {
     "base_uri": "https://localhost:8080/",
     "height": 272
    },
    "id": "bd086eea-92a7-44df-aed1-07617c6f039e",
    "outputId": "09a6b8d5-83f3-4b51-c49c-ae2fbb6ee569"
   },
   "outputs": [
    {
     "data": {
      "text/plain": [
       "user_id\n",
       "0      1001 2335 3298 3036 2999 1699 52 331 2606 583\n",
       "1         3677 169 584 1811 1039 512 2338 93 232 452\n",
       "2    1831 1956 2732 1560 640 2603 2256 1711 452 2774\n",
       "3      169 3022 220 3597 1223 1001 1543 2956 3435 36\n",
       "4    2338 1560 2342 1583 1809 512 2210 1315 1490 138\n",
       "Name: item_id, dtype: object"
      ]
     },
     "execution_count": 40,
     "metadata": {},
     "output_type": "execute_result"
    }
   ],
   "source": [
    "result_filtered_df.head()"
   ]
  },
  {
   "cell_type": "code",
   "execution_count": 41,
   "id": "6e3e4cc5-0443-48e8-99e8-2b5cee896520",
   "metadata": {
    "id": "6e3e4cc5-0443-48e8-99e8-2b5cee896520"
   },
   "outputs": [],
   "source": [
    "result_filtered_df.reset_index().to_csv('./boosting_submission_5.csv', header=True, index=False)"
   ]
  },
  {
   "cell_type": "code",
   "execution_count": null,
   "id": "d50e729d-9242-4374-8897-f55e86bfbb70",
   "metadata": {
    "id": "d50e729d-9242-4374-8897-f55e86bfbb70"
   },
   "outputs": [],
   "source": []
  },
  {
   "cell_type": "code",
   "execution_count": 42,
   "id": "0e2b8187-d7d6-4385-ad6e-819fecc4add6",
   "metadata": {
    "id": "0e2b8187-d7d6-4385-ad6e-819fecc4add6"
   },
   "outputs": [],
   "source": [
    "test_df = events_df.merge(\n",
    "    candidates_df[['user_id', 'item_id', 'timestamp']].assign(__tmp__=True),\n",
    "    on=['user_id', 'item_id', 'timestamp'],\n",
    "    how='left'\n",
    ")\n",
    "test_df = test_df[test_df['__tmp__'].isna()].drop('__tmp__', axis=1)\n",
    "\n",
    "test_df = test_df.merge(\n",
    "    ranking_df[['user_id', 'item_id', 'timestamp']].assign(__tmp__=True),\n",
    "    on=['user_id', 'item_id', 'timestamp'],\n",
    "    how='left'\n",
    ")\n",
    "test_df = test_df[test_df['__tmp__'].isna()].drop('__tmp__', axis=1)"
   ]
  },
  {
   "cell_type": "code",
   "execution_count": 43,
   "id": "71166a88-7e6d-4aef-896b-20c9de66178b",
   "metadata": {
    "colab": {
     "base_uri": "https://localhost:8080/"
    },
    "id": "71166a88-7e6d-4aef-896b-20c9de66178b",
    "outputId": "e530e9f4-c7e2-49fa-9844-3d064b1257be"
   },
   "outputs": [
    {
     "data": {
      "text/plain": [
       "(894149, 894149)"
      ]
     },
     "execution_count": 43,
     "metadata": {},
     "output_type": "execute_result"
    }
   ],
   "source": [
    "test_df.shape[0] + candidates_df.shape[0] + ranking_df.shape[0], events_df.shape[0]"
   ]
  },
  {
   "cell_type": "code",
   "execution_count": 44,
   "id": "a7604e45-f870-4447-ba1c-55112fc1c18a",
   "metadata": {
    "id": "a7604e45-f870-4447-ba1c-55112fc1c18a"
   },
   "outputs": [],
   "source": [
    "def precision_at_k(gts, predictions, k=10):\n",
    "    return sum(1 if prediction in gts else 0 for prediction in predictions[:k]) / k\n",
    "\n",
    "\n",
    "def recall_at_k(gts, predictions, k=10):\n",
    "    return sum(1 if prediction in gts else 0 for prediction in predictions[:k]) / len(gts)\n",
    "\n",
    "\n",
    "def evaluate(gts_users, predictions_users):\n",
    "    return {\n",
    "        'precision_at_k': np.mean([precision_at_k(gt, prediction) for gt, prediction in zip(gts_users, predictions_users)]),\n",
    "        'recall_at_k': np.mean([recall_at_k(gt, prediction) for gt, prediction in zip(gts_users, predictions_users)])\n",
    "    }"
   ]
  },
  {
   "cell_type": "code",
   "execution_count": 45,
   "id": "3mxhMLBckxy5",
   "metadata": {
    "colab": {
     "base_uri": "https://localhost:8080/"
    },
    "id": "3mxhMLBckxy5",
    "outputId": "50a94ff1-fa4c-4066-f57b-9d3203ee5b4f"
   },
   "outputs": [
    {
     "data": {
      "text/plain": [
       "{'precision_at_k': 0.008576158940397352, 'recall_at_k': 0.0857615894039735}"
      ]
     },
     "execution_count": 45,
     "metadata": {},
     "output_type": "execute_result"
    }
   ],
   "source": [
    "evaluate(\n",
    "    test_df.groupby('user_id')['item_id'].apply(list),\n",
    "    result_filtered_df.apply(lambda x: list(map(int, x.split())))\n",
    ")"
   ]
  },
  {
   "cell_type": "code",
   "execution_count": null,
   "id": "c0e2de76-dc82-473d-b2d7-4bc3f8bbde5e",
   "metadata": {},
   "outputs": [],
   "source": []
  }
 ],
 "metadata": {
  "colab": {
   "machine_shape": "hm",
   "provenance": []
  },
  "kernelspec": {
   "display_name": "Python 3 (ipykernel)",
   "language": "python",
   "name": "python3"
  },
  "language_info": {
   "codemirror_mode": {
    "name": "ipython",
    "version": 3
   },
   "file_extension": ".py",
   "mimetype": "text/x-python",
   "name": "python",
   "nbconvert_exporter": "python",
   "pygments_lexer": "ipython3",
   "version": "3.10.15"
  },
  "widgets": {
   "application/vnd.jupyter.widget-state+json": {
    "051aee5f10294b128111fa991f01352b": {
     "model_module": "@jupyter-widgets/controls",
     "model_module_version": "1.5.0",
     "model_name": "HBoxModel",
     "state": {
      "_dom_classes": [],
      "_model_module": "@jupyter-widgets/controls",
      "_model_module_version": "1.5.0",
      "_model_name": "HBoxModel",
      "_view_count": null,
      "_view_module": "@jupyter-widgets/controls",
      "_view_module_version": "1.5.0",
      "_view_name": "HBoxView",
      "box_style": "",
      "children": [
       "IPY_MODEL_271c23bdbe1040cbbf4a29b22de8ec58",
       "IPY_MODEL_7fce02e69b7342dc9b47bfcbe375f98c",
       "IPY_MODEL_b5d3f3dbc03b4d0ca3835bac0dd426d1"
      ],
      "layout": "IPY_MODEL_8307db54a84a448eb69f99d9743c5eac"
     }
    },
    "1cc455413bdc49c39d15e616fbfd0833": {
     "model_module": "@jupyter-widgets/controls",
     "model_module_version": "1.5.0",
     "model_name": "DescriptionStyleModel",
     "state": {
      "_model_module": "@jupyter-widgets/controls",
      "_model_module_version": "1.5.0",
      "_model_name": "DescriptionStyleModel",
      "_view_count": null,
      "_view_module": "@jupyter-widgets/base",
      "_view_module_version": "1.2.0",
      "_view_name": "StyleView",
      "description_width": ""
     }
    },
    "21c30525d2d44ac999e51d43e45d15f0": {
     "model_module": "@jupyter-widgets/base",
     "model_module_version": "1.2.0",
     "model_name": "LayoutModel",
     "state": {
      "_model_module": "@jupyter-widgets/base",
      "_model_module_version": "1.2.0",
      "_model_name": "LayoutModel",
      "_view_count": null,
      "_view_module": "@jupyter-widgets/base",
      "_view_module_version": "1.2.0",
      "_view_name": "LayoutView",
      "align_content": null,
      "align_items": null,
      "align_self": null,
      "border": null,
      "bottom": null,
      "display": null,
      "flex": null,
      "flex_flow": null,
      "grid_area": null,
      "grid_auto_columns": null,
      "grid_auto_flow": null,
      "grid_auto_rows": null,
      "grid_column": null,
      "grid_gap": null,
      "grid_row": null,
      "grid_template_areas": null,
      "grid_template_columns": null,
      "grid_template_rows": null,
      "height": null,
      "justify_content": null,
      "justify_items": null,
      "left": null,
      "margin": null,
      "max_height": null,
      "max_width": null,
      "min_height": null,
      "min_width": null,
      "object_fit": null,
      "object_position": null,
      "order": null,
      "overflow": null,
      "overflow_x": null,
      "overflow_y": null,
      "padding": null,
      "right": null,
      "top": null,
      "visibility": null,
      "width": null
     }
    },
    "241db4015fec46a6b571dd1363cd36d6": {
     "model_module": "@jupyter-widgets/controls",
     "model_module_version": "1.5.0",
     "model_name": "DescriptionStyleModel",
     "state": {
      "_model_module": "@jupyter-widgets/controls",
      "_model_module_version": "1.5.0",
      "_model_name": "DescriptionStyleModel",
      "_view_count": null,
      "_view_module": "@jupyter-widgets/base",
      "_view_module_version": "1.2.0",
      "_view_name": "StyleView",
      "description_width": ""
     }
    },
    "252236d1cb1b4e2bbbf4fea5d8565d97": {
     "model_module": "@jupyter-widgets/base",
     "model_module_version": "1.2.0",
     "model_name": "LayoutModel",
     "state": {
      "_model_module": "@jupyter-widgets/base",
      "_model_module_version": "1.2.0",
      "_model_name": "LayoutModel",
      "_view_count": null,
      "_view_module": "@jupyter-widgets/base",
      "_view_module_version": "1.2.0",
      "_view_name": "LayoutView",
      "align_content": null,
      "align_items": null,
      "align_self": null,
      "border": null,
      "bottom": null,
      "display": null,
      "flex": null,
      "flex_flow": null,
      "grid_area": null,
      "grid_auto_columns": null,
      "grid_auto_flow": null,
      "grid_auto_rows": null,
      "grid_column": null,
      "grid_gap": null,
      "grid_row": null,
      "grid_template_areas": null,
      "grid_template_columns": null,
      "grid_template_rows": null,
      "height": null,
      "justify_content": null,
      "justify_items": null,
      "left": null,
      "margin": null,
      "max_height": null,
      "max_width": null,
      "min_height": null,
      "min_width": null,
      "object_fit": null,
      "object_position": null,
      "order": null,
      "overflow": null,
      "overflow_x": null,
      "overflow_y": null,
      "padding": null,
      "right": null,
      "top": null,
      "visibility": null,
      "width": null
     }
    },
    "271c23bdbe1040cbbf4a29b22de8ec58": {
     "model_module": "@jupyter-widgets/controls",
     "model_module_version": "1.5.0",
     "model_name": "HTMLModel",
     "state": {
      "_dom_classes": [],
      "_model_module": "@jupyter-widgets/controls",
      "_model_module_version": "1.5.0",
      "_model_name": "HTMLModel",
      "_view_count": null,
      "_view_module": "@jupyter-widgets/controls",
      "_view_module_version": "1.5.0",
      "_view_name": "HTMLView",
      "description": "",
      "description_tooltip": null,
      "layout": "IPY_MODEL_7f47b6d9a10546ef88c5cbe3fdfc479c",
      "placeholder": "​",
      "style": "IPY_MODEL_3daa8c459a454c38b932b051d099b8f6",
      "value": "100%"
     }
    },
    "30feddffe6b9437cbb6f445db17d2846": {
     "model_module": "@jupyter-widgets/controls",
     "model_module_version": "1.5.0",
     "model_name": "HTMLModel",
     "state": {
      "_dom_classes": [],
      "_model_module": "@jupyter-widgets/controls",
      "_model_module_version": "1.5.0",
      "_model_name": "HTMLModel",
      "_view_count": null,
      "_view_module": "@jupyter-widgets/controls",
      "_view_module_version": "1.5.0",
      "_view_name": "HTMLView",
      "description": "",
      "description_tooltip": null,
      "layout": "IPY_MODEL_f8d2ae8c15234680a8064264308e1d3e",
      "placeholder": "​",
      "style": "IPY_MODEL_982b636a49ea44d6b9b9b09736fb5677",
      "value": " 100/100 [00:13&lt;00:00,  6.23it/s, train_auc=90.68%, skipped=20.65%]"
     }
    },
    "322ca3ee2fa84d539949d0bafa676a77": {
     "model_module": "@jupyter-widgets/controls",
     "model_module_version": "1.5.0",
     "model_name": "DescriptionStyleModel",
     "state": {
      "_model_module": "@jupyter-widgets/controls",
      "_model_module_version": "1.5.0",
      "_model_name": "DescriptionStyleModel",
      "_view_count": null,
      "_view_module": "@jupyter-widgets/base",
      "_view_module_version": "1.2.0",
      "_view_name": "StyleView",
      "description_width": ""
     }
    },
    "357dc984e8e046f79712ca7a092ebfc2": {
     "model_module": "@jupyter-widgets/controls",
     "model_module_version": "1.5.0",
     "model_name": "DescriptionStyleModel",
     "state": {
      "_model_module": "@jupyter-widgets/controls",
      "_model_module_version": "1.5.0",
      "_model_name": "DescriptionStyleModel",
      "_view_count": null,
      "_view_module": "@jupyter-widgets/base",
      "_view_module_version": "1.2.0",
      "_view_name": "StyleView",
      "description_width": ""
     }
    },
    "3daa8c459a454c38b932b051d099b8f6": {
     "model_module": "@jupyter-widgets/controls",
     "model_module_version": "1.5.0",
     "model_name": "DescriptionStyleModel",
     "state": {
      "_model_module": "@jupyter-widgets/controls",
      "_model_module_version": "1.5.0",
      "_model_name": "DescriptionStyleModel",
      "_view_count": null,
      "_view_module": "@jupyter-widgets/base",
      "_view_module_version": "1.2.0",
      "_view_name": "StyleView",
      "description_width": ""
     }
    },
    "46cc74b9332847eba1ab809e1a6ee7c0": {
     "model_module": "@jupyter-widgets/base",
     "model_module_version": "1.2.0",
     "model_name": "LayoutModel",
     "state": {
      "_model_module": "@jupyter-widgets/base",
      "_model_module_version": "1.2.0",
      "_model_name": "LayoutModel",
      "_view_count": null,
      "_view_module": "@jupyter-widgets/base",
      "_view_module_version": "1.2.0",
      "_view_name": "LayoutView",
      "align_content": null,
      "align_items": null,
      "align_self": null,
      "border": null,
      "bottom": null,
      "display": null,
      "flex": null,
      "flex_flow": null,
      "grid_area": null,
      "grid_auto_columns": null,
      "grid_auto_flow": null,
      "grid_auto_rows": null,
      "grid_column": null,
      "grid_gap": null,
      "grid_row": null,
      "grid_template_areas": null,
      "grid_template_columns": null,
      "grid_template_rows": null,
      "height": null,
      "justify_content": null,
      "justify_items": null,
      "left": null,
      "margin": null,
      "max_height": null,
      "max_width": null,
      "min_height": null,
      "min_width": null,
      "object_fit": null,
      "object_position": null,
      "order": null,
      "overflow": null,
      "overflow_x": null,
      "overflow_y": null,
      "padding": null,
      "right": null,
      "top": null,
      "visibility": null,
      "width": null
     }
    },
    "6ba555d29f7b4932b314dbd6521f8447": {
     "model_module": "@jupyter-widgets/controls",
     "model_module_version": "1.5.0",
     "model_name": "FloatProgressModel",
     "state": {
      "_dom_classes": [],
      "_model_module": "@jupyter-widgets/controls",
      "_model_module_version": "1.5.0",
      "_model_name": "FloatProgressModel",
      "_view_count": null,
      "_view_module": "@jupyter-widgets/controls",
      "_view_module_version": "1.5.0",
      "_view_name": "ProgressView",
      "bar_style": "success",
      "description": "",
      "description_tooltip": null,
      "layout": "IPY_MODEL_7567e23acb604e53bd8dcb5914f66ef5",
      "max": 100,
      "min": 0,
      "orientation": "horizontal",
      "style": "IPY_MODEL_85b85b538d834383b06050dc9d07daca",
      "value": 100
     }
    },
    "715e63cc170a44ab9059bcd7e7a0f88a": {
     "model_module": "@jupyter-widgets/controls",
     "model_module_version": "1.5.0",
     "model_name": "FloatProgressModel",
     "state": {
      "_dom_classes": [],
      "_model_module": "@jupyter-widgets/controls",
      "_model_module_version": "1.5.0",
      "_model_name": "FloatProgressModel",
      "_view_count": null,
      "_view_module": "@jupyter-widgets/controls",
      "_view_module_version": "1.5.0",
      "_view_name": "ProgressView",
      "bar_style": "success",
      "description": "",
      "description_tooltip": null,
      "layout": "IPY_MODEL_8b5253999004489892be39f5c388b662",
      "max": 50,
      "min": 0,
      "orientation": "horizontal",
      "style": "IPY_MODEL_d44d2912b7834638afc1131b8ae63b4f",
      "value": 50
     }
    },
    "74369605c12346ab9f1100a09bb9f553": {
     "model_module": "@jupyter-widgets/base",
     "model_module_version": "1.2.0",
     "model_name": "LayoutModel",
     "state": {
      "_model_module": "@jupyter-widgets/base",
      "_model_module_version": "1.2.0",
      "_model_name": "LayoutModel",
      "_view_count": null,
      "_view_module": "@jupyter-widgets/base",
      "_view_module_version": "1.2.0",
      "_view_name": "LayoutView",
      "align_content": null,
      "align_items": null,
      "align_self": null,
      "border": null,
      "bottom": null,
      "display": null,
      "flex": null,
      "flex_flow": null,
      "grid_area": null,
      "grid_auto_columns": null,
      "grid_auto_flow": null,
      "grid_auto_rows": null,
      "grid_column": null,
      "grid_gap": null,
      "grid_row": null,
      "grid_template_areas": null,
      "grid_template_columns": null,
      "grid_template_rows": null,
      "height": null,
      "justify_content": null,
      "justify_items": null,
      "left": null,
      "margin": null,
      "max_height": null,
      "max_width": null,
      "min_height": null,
      "min_width": null,
      "object_fit": null,
      "object_position": null,
      "order": null,
      "overflow": null,
      "overflow_x": null,
      "overflow_y": null,
      "padding": null,
      "right": null,
      "top": null,
      "visibility": null,
      "width": null
     }
    },
    "7567e23acb604e53bd8dcb5914f66ef5": {
     "model_module": "@jupyter-widgets/base",
     "model_module_version": "1.2.0",
     "model_name": "LayoutModel",
     "state": {
      "_model_module": "@jupyter-widgets/base",
      "_model_module_version": "1.2.0",
      "_model_name": "LayoutModel",
      "_view_count": null,
      "_view_module": "@jupyter-widgets/base",
      "_view_module_version": "1.2.0",
      "_view_name": "LayoutView",
      "align_content": null,
      "align_items": null,
      "align_self": null,
      "border": null,
      "bottom": null,
      "display": null,
      "flex": null,
      "flex_flow": null,
      "grid_area": null,
      "grid_auto_columns": null,
      "grid_auto_flow": null,
      "grid_auto_rows": null,
      "grid_column": null,
      "grid_gap": null,
      "grid_row": null,
      "grid_template_areas": null,
      "grid_template_columns": null,
      "grid_template_rows": null,
      "height": null,
      "justify_content": null,
      "justify_items": null,
      "left": null,
      "margin": null,
      "max_height": null,
      "max_width": null,
      "min_height": null,
      "min_width": null,
      "object_fit": null,
      "object_position": null,
      "order": null,
      "overflow": null,
      "overflow_x": null,
      "overflow_y": null,
      "padding": null,
      "right": null,
      "top": null,
      "visibility": null,
      "width": null
     }
    },
    "783e67577a3449bebc83ddb39e324290": {
     "model_module": "@jupyter-widgets/controls",
     "model_module_version": "1.5.0",
     "model_name": "ProgressStyleModel",
     "state": {
      "_model_module": "@jupyter-widgets/controls",
      "_model_module_version": "1.5.0",
      "_model_name": "ProgressStyleModel",
      "_view_count": null,
      "_view_module": "@jupyter-widgets/base",
      "_view_module_version": "1.2.0",
      "_view_name": "StyleView",
      "bar_color": null,
      "description_width": ""
     }
    },
    "7f47b6d9a10546ef88c5cbe3fdfc479c": {
     "model_module": "@jupyter-widgets/base",
     "model_module_version": "1.2.0",
     "model_name": "LayoutModel",
     "state": {
      "_model_module": "@jupyter-widgets/base",
      "_model_module_version": "1.2.0",
      "_model_name": "LayoutModel",
      "_view_count": null,
      "_view_module": "@jupyter-widgets/base",
      "_view_module_version": "1.2.0",
      "_view_name": "LayoutView",
      "align_content": null,
      "align_items": null,
      "align_self": null,
      "border": null,
      "bottom": null,
      "display": null,
      "flex": null,
      "flex_flow": null,
      "grid_area": null,
      "grid_auto_columns": null,
      "grid_auto_flow": null,
      "grid_auto_rows": null,
      "grid_column": null,
      "grid_gap": null,
      "grid_row": null,
      "grid_template_areas": null,
      "grid_template_columns": null,
      "grid_template_rows": null,
      "height": null,
      "justify_content": null,
      "justify_items": null,
      "left": null,
      "margin": null,
      "max_height": null,
      "max_width": null,
      "min_height": null,
      "min_width": null,
      "object_fit": null,
      "object_position": null,
      "order": null,
      "overflow": null,
      "overflow_x": null,
      "overflow_y": null,
      "padding": null,
      "right": null,
      "top": null,
      "visibility": null,
      "width": null
     }
    },
    "7fce02e69b7342dc9b47bfcbe375f98c": {
     "model_module": "@jupyter-widgets/controls",
     "model_module_version": "1.5.0",
     "model_name": "FloatProgressModel",
     "state": {
      "_dom_classes": [],
      "_model_module": "@jupyter-widgets/controls",
      "_model_module_version": "1.5.0",
      "_model_name": "FloatProgressModel",
      "_view_count": null,
      "_view_module": "@jupyter-widgets/controls",
      "_view_module_version": "1.5.0",
      "_view_name": "ProgressView",
      "bar_style": "success",
      "description": "",
      "description_tooltip": null,
      "layout": "IPY_MODEL_9eeb82dd620641a783872e35c41bfff0",
      "max": 30,
      "min": 0,
      "orientation": "horizontal",
      "style": "IPY_MODEL_905b017306124aafba10ad32e2619186",
      "value": 30
     }
    },
    "8307db54a84a448eb69f99d9743c5eac": {
     "model_module": "@jupyter-widgets/base",
     "model_module_version": "1.2.0",
     "model_name": "LayoutModel",
     "state": {
      "_model_module": "@jupyter-widgets/base",
      "_model_module_version": "1.2.0",
      "_model_name": "LayoutModel",
      "_view_count": null,
      "_view_module": "@jupyter-widgets/base",
      "_view_module_version": "1.2.0",
      "_view_name": "LayoutView",
      "align_content": null,
      "align_items": null,
      "align_self": null,
      "border": null,
      "bottom": null,
      "display": null,
      "flex": null,
      "flex_flow": null,
      "grid_area": null,
      "grid_auto_columns": null,
      "grid_auto_flow": null,
      "grid_auto_rows": null,
      "grid_column": null,
      "grid_gap": null,
      "grid_row": null,
      "grid_template_areas": null,
      "grid_template_columns": null,
      "grid_template_rows": null,
      "height": null,
      "justify_content": null,
      "justify_items": null,
      "left": null,
      "margin": null,
      "max_height": null,
      "max_width": null,
      "min_height": null,
      "min_width": null,
      "object_fit": null,
      "object_position": null,
      "order": null,
      "overflow": null,
      "overflow_x": null,
      "overflow_y": null,
      "padding": null,
      "right": null,
      "top": null,
      "visibility": null,
      "width": null
     }
    },
    "84824cfb28ab47c491f03aabc4666893": {
     "model_module": "@jupyter-widgets/controls",
     "model_module_version": "1.5.0",
     "model_name": "HBoxModel",
     "state": {
      "_dom_classes": [],
      "_model_module": "@jupyter-widgets/controls",
      "_model_module_version": "1.5.0",
      "_model_name": "HBoxModel",
      "_view_count": null,
      "_view_module": "@jupyter-widgets/controls",
      "_view_module_version": "1.5.0",
      "_view_name": "HBoxView",
      "box_style": "",
      "children": [
       "IPY_MODEL_e7fd2c931e5f43aa8f75f2681bf259e6",
       "IPY_MODEL_f0988991b43c41a2888a07ee10cf12b5",
       "IPY_MODEL_f9039cbe4685418d830d63b97d02464f"
      ],
      "layout": "IPY_MODEL_b362f6f25bef4cf3a4004869a50d675c"
     }
    },
    "85b85b538d834383b06050dc9d07daca": {
     "model_module": "@jupyter-widgets/controls",
     "model_module_version": "1.5.0",
     "model_name": "ProgressStyleModel",
     "state": {
      "_model_module": "@jupyter-widgets/controls",
      "_model_module_version": "1.5.0",
      "_model_name": "ProgressStyleModel",
      "_view_count": null,
      "_view_module": "@jupyter-widgets/base",
      "_view_module_version": "1.2.0",
      "_view_name": "StyleView",
      "bar_color": null,
      "description_width": ""
     }
    },
    "8b5253999004489892be39f5c388b662": {
     "model_module": "@jupyter-widgets/base",
     "model_module_version": "1.2.0",
     "model_name": "LayoutModel",
     "state": {
      "_model_module": "@jupyter-widgets/base",
      "_model_module_version": "1.2.0",
      "_model_name": "LayoutModel",
      "_view_count": null,
      "_view_module": "@jupyter-widgets/base",
      "_view_module_version": "1.2.0",
      "_view_name": "LayoutView",
      "align_content": null,
      "align_items": null,
      "align_self": null,
      "border": null,
      "bottom": null,
      "display": null,
      "flex": null,
      "flex_flow": null,
      "grid_area": null,
      "grid_auto_columns": null,
      "grid_auto_flow": null,
      "grid_auto_rows": null,
      "grid_column": null,
      "grid_gap": null,
      "grid_row": null,
      "grid_template_areas": null,
      "grid_template_columns": null,
      "grid_template_rows": null,
      "height": null,
      "justify_content": null,
      "justify_items": null,
      "left": null,
      "margin": null,
      "max_height": null,
      "max_width": null,
      "min_height": null,
      "min_width": null,
      "object_fit": null,
      "object_position": null,
      "order": null,
      "overflow": null,
      "overflow_x": null,
      "overflow_y": null,
      "padding": null,
      "right": null,
      "top": null,
      "visibility": null,
      "width": null
     }
    },
    "905b017306124aafba10ad32e2619186": {
     "model_module": "@jupyter-widgets/controls",
     "model_module_version": "1.5.0",
     "model_name": "ProgressStyleModel",
     "state": {
      "_model_module": "@jupyter-widgets/controls",
      "_model_module_version": "1.5.0",
      "_model_name": "ProgressStyleModel",
      "_view_count": null,
      "_view_module": "@jupyter-widgets/base",
      "_view_module_version": "1.2.0",
      "_view_name": "StyleView",
      "bar_color": null,
      "description_width": ""
     }
    },
    "929d08ab258b457e9b0b2ccf49ad6759": {
     "model_module": "@jupyter-widgets/base",
     "model_module_version": "1.2.0",
     "model_name": "LayoutModel",
     "state": {
      "_model_module": "@jupyter-widgets/base",
      "_model_module_version": "1.2.0",
      "_model_name": "LayoutModel",
      "_view_count": null,
      "_view_module": "@jupyter-widgets/base",
      "_view_module_version": "1.2.0",
      "_view_name": "LayoutView",
      "align_content": null,
      "align_items": null,
      "align_self": null,
      "border": null,
      "bottom": null,
      "display": null,
      "flex": null,
      "flex_flow": null,
      "grid_area": null,
      "grid_auto_columns": null,
      "grid_auto_flow": null,
      "grid_auto_rows": null,
      "grid_column": null,
      "grid_gap": null,
      "grid_row": null,
      "grid_template_areas": null,
      "grid_template_columns": null,
      "grid_template_rows": null,
      "height": null,
      "justify_content": null,
      "justify_items": null,
      "left": null,
      "margin": null,
      "max_height": null,
      "max_width": null,
      "min_height": null,
      "min_width": null,
      "object_fit": null,
      "object_position": null,
      "order": null,
      "overflow": null,
      "overflow_x": null,
      "overflow_y": null,
      "padding": null,
      "right": null,
      "top": null,
      "visibility": null,
      "width": null
     }
    },
    "93f13cd84d8c41c9adc1199b32764601": {
     "model_module": "@jupyter-widgets/controls",
     "model_module_version": "1.5.0",
     "model_name": "DescriptionStyleModel",
     "state": {
      "_model_module": "@jupyter-widgets/controls",
      "_model_module_version": "1.5.0",
      "_model_name": "DescriptionStyleModel",
      "_view_count": null,
      "_view_module": "@jupyter-widgets/base",
      "_view_module_version": "1.2.0",
      "_view_name": "StyleView",
      "description_width": ""
     }
    },
    "982b636a49ea44d6b9b9b09736fb5677": {
     "model_module": "@jupyter-widgets/controls",
     "model_module_version": "1.5.0",
     "model_name": "DescriptionStyleModel",
     "state": {
      "_model_module": "@jupyter-widgets/controls",
      "_model_module_version": "1.5.0",
      "_model_name": "DescriptionStyleModel",
      "_view_count": null,
      "_view_module": "@jupyter-widgets/base",
      "_view_module_version": "1.2.0",
      "_view_name": "StyleView",
      "description_width": ""
     }
    },
    "9eb6e976c9fa474e9240846ac00642af": {
     "model_module": "@jupyter-widgets/controls",
     "model_module_version": "1.5.0",
     "model_name": "DescriptionStyleModel",
     "state": {
      "_model_module": "@jupyter-widgets/controls",
      "_model_module_version": "1.5.0",
      "_model_name": "DescriptionStyleModel",
      "_view_count": null,
      "_view_module": "@jupyter-widgets/base",
      "_view_module_version": "1.2.0",
      "_view_name": "StyleView",
      "description_width": ""
     }
    },
    "9eeb82dd620641a783872e35c41bfff0": {
     "model_module": "@jupyter-widgets/base",
     "model_module_version": "1.2.0",
     "model_name": "LayoutModel",
     "state": {
      "_model_module": "@jupyter-widgets/base",
      "_model_module_version": "1.2.0",
      "_model_name": "LayoutModel",
      "_view_count": null,
      "_view_module": "@jupyter-widgets/base",
      "_view_module_version": "1.2.0",
      "_view_name": "LayoutView",
      "align_content": null,
      "align_items": null,
      "align_self": null,
      "border": null,
      "bottom": null,
      "display": null,
      "flex": null,
      "flex_flow": null,
      "grid_area": null,
      "grid_auto_columns": null,
      "grid_auto_flow": null,
      "grid_auto_rows": null,
      "grid_column": null,
      "grid_gap": null,
      "grid_row": null,
      "grid_template_areas": null,
      "grid_template_columns": null,
      "grid_template_rows": null,
      "height": null,
      "justify_content": null,
      "justify_items": null,
      "left": null,
      "margin": null,
      "max_height": null,
      "max_width": null,
      "min_height": null,
      "min_width": null,
      "object_fit": null,
      "object_position": null,
      "order": null,
      "overflow": null,
      "overflow_x": null,
      "overflow_y": null,
      "padding": null,
      "right": null,
      "top": null,
      "visibility": null,
      "width": null
     }
    },
    "a24448d5253446e48b57b98affed4ab2": {
     "model_module": "@jupyter-widgets/controls",
     "model_module_version": "1.5.0",
     "model_name": "HBoxModel",
     "state": {
      "_dom_classes": [],
      "_model_module": "@jupyter-widgets/controls",
      "_model_module_version": "1.5.0",
      "_model_name": "HBoxModel",
      "_view_count": null,
      "_view_module": "@jupyter-widgets/controls",
      "_view_module_version": "1.5.0",
      "_view_name": "HBoxView",
      "box_style": "",
      "children": [
       "IPY_MODEL_aa47692f66c141be91b1fdedd6de8cdf",
       "IPY_MODEL_715e63cc170a44ab9059bcd7e7a0f88a",
       "IPY_MODEL_b6cefe419f7b4f33b778e2f45a154c66"
      ],
      "layout": "IPY_MODEL_fa22970aaa284491b8f8976c29cd2ebb"
     }
    },
    "aa47692f66c141be91b1fdedd6de8cdf": {
     "model_module": "@jupyter-widgets/controls",
     "model_module_version": "1.5.0",
     "model_name": "HTMLModel",
     "state": {
      "_dom_classes": [],
      "_model_module": "@jupyter-widgets/controls",
      "_model_module_version": "1.5.0",
      "_model_name": "HTMLModel",
      "_view_count": null,
      "_view_module": "@jupyter-widgets/controls",
      "_view_module_version": "1.5.0",
      "_view_name": "HTMLView",
      "description": "",
      "description_tooltip": null,
      "layout": "IPY_MODEL_fbbba030cb44445faec941540540a524",
      "placeholder": "​",
      "style": "IPY_MODEL_1cc455413bdc49c39d15e616fbfd0833",
      "value": "100%"
     }
    },
    "afbe5b7832a7496f89cf01741a1ae19b": {
     "model_module": "@jupyter-widgets/base",
     "model_module_version": "1.2.0",
     "model_name": "LayoutModel",
     "state": {
      "_model_module": "@jupyter-widgets/base",
      "_model_module_version": "1.2.0",
      "_model_name": "LayoutModel",
      "_view_count": null,
      "_view_module": "@jupyter-widgets/base",
      "_view_module_version": "1.2.0",
      "_view_name": "LayoutView",
      "align_content": null,
      "align_items": null,
      "align_self": null,
      "border": null,
      "bottom": null,
      "display": null,
      "flex": null,
      "flex_flow": null,
      "grid_area": null,
      "grid_auto_columns": null,
      "grid_auto_flow": null,
      "grid_auto_rows": null,
      "grid_column": null,
      "grid_gap": null,
      "grid_row": null,
      "grid_template_areas": null,
      "grid_template_columns": null,
      "grid_template_rows": null,
      "height": null,
      "justify_content": null,
      "justify_items": null,
      "left": null,
      "margin": null,
      "max_height": null,
      "max_width": null,
      "min_height": null,
      "min_width": null,
      "object_fit": null,
      "object_position": null,
      "order": null,
      "overflow": null,
      "overflow_x": null,
      "overflow_y": null,
      "padding": null,
      "right": null,
      "top": null,
      "visibility": null,
      "width": null
     }
    },
    "b362f6f25bef4cf3a4004869a50d675c": {
     "model_module": "@jupyter-widgets/base",
     "model_module_version": "1.2.0",
     "model_name": "LayoutModel",
     "state": {
      "_model_module": "@jupyter-widgets/base",
      "_model_module_version": "1.2.0",
      "_model_name": "LayoutModel",
      "_view_count": null,
      "_view_module": "@jupyter-widgets/base",
      "_view_module_version": "1.2.0",
      "_view_name": "LayoutView",
      "align_content": null,
      "align_items": null,
      "align_self": null,
      "border": null,
      "bottom": null,
      "display": null,
      "flex": null,
      "flex_flow": null,
      "grid_area": null,
      "grid_auto_columns": null,
      "grid_auto_flow": null,
      "grid_auto_rows": null,
      "grid_column": null,
      "grid_gap": null,
      "grid_row": null,
      "grid_template_areas": null,
      "grid_template_columns": null,
      "grid_template_rows": null,
      "height": null,
      "justify_content": null,
      "justify_items": null,
      "left": null,
      "margin": null,
      "max_height": null,
      "max_width": null,
      "min_height": null,
      "min_width": null,
      "object_fit": null,
      "object_position": null,
      "order": null,
      "overflow": null,
      "overflow_x": null,
      "overflow_y": null,
      "padding": null,
      "right": null,
      "top": null,
      "visibility": null,
      "width": null
     }
    },
    "b5d3f3dbc03b4d0ca3835bac0dd426d1": {
     "model_module": "@jupyter-widgets/controls",
     "model_module_version": "1.5.0",
     "model_name": "HTMLModel",
     "state": {
      "_dom_classes": [],
      "_model_module": "@jupyter-widgets/controls",
      "_model_module_version": "1.5.0",
      "_model_name": "HTMLModel",
      "_view_count": null,
      "_view_module": "@jupyter-widgets/controls",
      "_view_module_version": "1.5.0",
      "_view_name": "HTMLView",
      "description": "",
      "description_tooltip": null,
      "layout": "IPY_MODEL_afbe5b7832a7496f89cf01741a1ae19b",
      "placeholder": "​",
      "style": "IPY_MODEL_9eb6e976c9fa474e9240846ac00642af",
      "value": " 30/30 [00:02&lt;00:00, 20.16it/s]"
     }
    },
    "b6cefe419f7b4f33b778e2f45a154c66": {
     "model_module": "@jupyter-widgets/controls",
     "model_module_version": "1.5.0",
     "model_name": "HTMLModel",
     "state": {
      "_dom_classes": [],
      "_model_module": "@jupyter-widgets/controls",
      "_model_module_version": "1.5.0",
      "_model_name": "HTMLModel",
      "_view_count": null,
      "_view_module": "@jupyter-widgets/controls",
      "_view_module_version": "1.5.0",
      "_view_name": "HTMLView",
      "description": "",
      "description_tooltip": null,
      "layout": "IPY_MODEL_252236d1cb1b4e2bbbf4fea5d8565d97",
      "placeholder": "​",
      "style": "IPY_MODEL_93f13cd84d8c41c9adc1199b32764601",
      "value": " 50/50 [00:16&lt;00:00,  2.75it/s]"
     }
    },
    "d406a0cc97f34d439f8fff5bb4afc6e2": {
     "model_module": "@jupyter-widgets/controls",
     "model_module_version": "1.5.0",
     "model_name": "HTMLModel",
     "state": {
      "_dom_classes": [],
      "_model_module": "@jupyter-widgets/controls",
      "_model_module_version": "1.5.0",
      "_model_name": "HTMLModel",
      "_view_count": null,
      "_view_module": "@jupyter-widgets/controls",
      "_view_module_version": "1.5.0",
      "_view_name": "HTMLView",
      "description": "",
      "description_tooltip": null,
      "layout": "IPY_MODEL_929d08ab258b457e9b0b2ccf49ad6759",
      "placeholder": "​",
      "style": "IPY_MODEL_357dc984e8e046f79712ca7a092ebfc2",
      "value": "100%"
     }
    },
    "d44d2912b7834638afc1131b8ae63b4f": {
     "model_module": "@jupyter-widgets/controls",
     "model_module_version": "1.5.0",
     "model_name": "ProgressStyleModel",
     "state": {
      "_model_module": "@jupyter-widgets/controls",
      "_model_module_version": "1.5.0",
      "_model_name": "ProgressStyleModel",
      "_view_count": null,
      "_view_module": "@jupyter-widgets/base",
      "_view_module_version": "1.2.0",
      "_view_name": "StyleView",
      "bar_color": null,
      "description_width": ""
     }
    },
    "e7fd2c931e5f43aa8f75f2681bf259e6": {
     "model_module": "@jupyter-widgets/controls",
     "model_module_version": "1.5.0",
     "model_name": "HTMLModel",
     "state": {
      "_dom_classes": [],
      "_model_module": "@jupyter-widgets/controls",
      "_model_module_version": "1.5.0",
      "_model_name": "HTMLModel",
      "_view_count": null,
      "_view_module": "@jupyter-widgets/controls",
      "_view_module_version": "1.5.0",
      "_view_name": "HTMLView",
      "description": "",
      "description_tooltip": null,
      "layout": "IPY_MODEL_f3a242010c664e08bbb7ec4269486280",
      "placeholder": "​",
      "style": "IPY_MODEL_241db4015fec46a6b571dd1363cd36d6",
      "value": "100%"
     }
    },
    "ea4f64ca1b994517b49389c03caf85af": {
     "model_module": "@jupyter-widgets/controls",
     "model_module_version": "1.5.0",
     "model_name": "HBoxModel",
     "state": {
      "_dom_classes": [],
      "_model_module": "@jupyter-widgets/controls",
      "_model_module_version": "1.5.0",
      "_model_name": "HBoxModel",
      "_view_count": null,
      "_view_module": "@jupyter-widgets/controls",
      "_view_module_version": "1.5.0",
      "_view_name": "HBoxView",
      "box_style": "",
      "children": [
       "IPY_MODEL_d406a0cc97f34d439f8fff5bb4afc6e2",
       "IPY_MODEL_6ba555d29f7b4932b314dbd6521f8447",
       "IPY_MODEL_30feddffe6b9437cbb6f445db17d2846"
      ],
      "layout": "IPY_MODEL_46cc74b9332847eba1ab809e1a6ee7c0"
     }
    },
    "f0988991b43c41a2888a07ee10cf12b5": {
     "model_module": "@jupyter-widgets/controls",
     "model_module_version": "1.5.0",
     "model_name": "FloatProgressModel",
     "state": {
      "_dom_classes": [],
      "_model_module": "@jupyter-widgets/controls",
      "_model_module_version": "1.5.0",
      "_model_name": "FloatProgressModel",
      "_view_count": null,
      "_view_module": "@jupyter-widgets/controls",
      "_view_module_version": "1.5.0",
      "_view_name": "ProgressView",
      "bar_style": "success",
      "description": "",
      "description_tooltip": null,
      "layout": "IPY_MODEL_74369605c12346ab9f1100a09bb9f553",
      "max": 3706,
      "min": 0,
      "orientation": "horizontal",
      "style": "IPY_MODEL_783e67577a3449bebc83ddb39e324290",
      "value": 3706
     }
    },
    "f3a242010c664e08bbb7ec4269486280": {
     "model_module": "@jupyter-widgets/base",
     "model_module_version": "1.2.0",
     "model_name": "LayoutModel",
     "state": {
      "_model_module": "@jupyter-widgets/base",
      "_model_module_version": "1.2.0",
      "_model_name": "LayoutModel",
      "_view_count": null,
      "_view_module": "@jupyter-widgets/base",
      "_view_module_version": "1.2.0",
      "_view_name": "LayoutView",
      "align_content": null,
      "align_items": null,
      "align_self": null,
      "border": null,
      "bottom": null,
      "display": null,
      "flex": null,
      "flex_flow": null,
      "grid_area": null,
      "grid_auto_columns": null,
      "grid_auto_flow": null,
      "grid_auto_rows": null,
      "grid_column": null,
      "grid_gap": null,
      "grid_row": null,
      "grid_template_areas": null,
      "grid_template_columns": null,
      "grid_template_rows": null,
      "height": null,
      "justify_content": null,
      "justify_items": null,
      "left": null,
      "margin": null,
      "max_height": null,
      "max_width": null,
      "min_height": null,
      "min_width": null,
      "object_fit": null,
      "object_position": null,
      "order": null,
      "overflow": null,
      "overflow_x": null,
      "overflow_y": null,
      "padding": null,
      "right": null,
      "top": null,
      "visibility": null,
      "width": null
     }
    },
    "f8d2ae8c15234680a8064264308e1d3e": {
     "model_module": "@jupyter-widgets/base",
     "model_module_version": "1.2.0",
     "model_name": "LayoutModel",
     "state": {
      "_model_module": "@jupyter-widgets/base",
      "_model_module_version": "1.2.0",
      "_model_name": "LayoutModel",
      "_view_count": null,
      "_view_module": "@jupyter-widgets/base",
      "_view_module_version": "1.2.0",
      "_view_name": "LayoutView",
      "align_content": null,
      "align_items": null,
      "align_self": null,
      "border": null,
      "bottom": null,
      "display": null,
      "flex": null,
      "flex_flow": null,
      "grid_area": null,
      "grid_auto_columns": null,
      "grid_auto_flow": null,
      "grid_auto_rows": null,
      "grid_column": null,
      "grid_gap": null,
      "grid_row": null,
      "grid_template_areas": null,
      "grid_template_columns": null,
      "grid_template_rows": null,
      "height": null,
      "justify_content": null,
      "justify_items": null,
      "left": null,
      "margin": null,
      "max_height": null,
      "max_width": null,
      "min_height": null,
      "min_width": null,
      "object_fit": null,
      "object_position": null,
      "order": null,
      "overflow": null,
      "overflow_x": null,
      "overflow_y": null,
      "padding": null,
      "right": null,
      "top": null,
      "visibility": null,
      "width": null
     }
    },
    "f9039cbe4685418d830d63b97d02464f": {
     "model_module": "@jupyter-widgets/controls",
     "model_module_version": "1.5.0",
     "model_name": "HTMLModel",
     "state": {
      "_dom_classes": [],
      "_model_module": "@jupyter-widgets/controls",
      "_model_module_version": "1.5.0",
      "_model_name": "HTMLModel",
      "_view_count": null,
      "_view_module": "@jupyter-widgets/controls",
      "_view_module_version": "1.5.0",
      "_view_name": "HTMLView",
      "description": "",
      "description_tooltip": null,
      "layout": "IPY_MODEL_21c30525d2d44ac999e51d43e45d15f0",
      "placeholder": "​",
      "style": "IPY_MODEL_322ca3ee2fa84d539949d0bafa676a77",
      "value": " 3706/3706 [00:00&lt;00:00, 15751.03it/s]"
     }
    },
    "fa22970aaa284491b8f8976c29cd2ebb": {
     "model_module": "@jupyter-widgets/base",
     "model_module_version": "1.2.0",
     "model_name": "LayoutModel",
     "state": {
      "_model_module": "@jupyter-widgets/base",
      "_model_module_version": "1.2.0",
      "_model_name": "LayoutModel",
      "_view_count": null,
      "_view_module": "@jupyter-widgets/base",
      "_view_module_version": "1.2.0",
      "_view_name": "LayoutView",
      "align_content": null,
      "align_items": null,
      "align_self": null,
      "border": null,
      "bottom": null,
      "display": null,
      "flex": null,
      "flex_flow": null,
      "grid_area": null,
      "grid_auto_columns": null,
      "grid_auto_flow": null,
      "grid_auto_rows": null,
      "grid_column": null,
      "grid_gap": null,
      "grid_row": null,
      "grid_template_areas": null,
      "grid_template_columns": null,
      "grid_template_rows": null,
      "height": null,
      "justify_content": null,
      "justify_items": null,
      "left": null,
      "margin": null,
      "max_height": null,
      "max_width": null,
      "min_height": null,
      "min_width": null,
      "object_fit": null,
      "object_position": null,
      "order": null,
      "overflow": null,
      "overflow_x": null,
      "overflow_y": null,
      "padding": null,
      "right": null,
      "top": null,
      "visibility": null,
      "width": null
     }
    },
    "fbbba030cb44445faec941540540a524": {
     "model_module": "@jupyter-widgets/base",
     "model_module_version": "1.2.0",
     "model_name": "LayoutModel",
     "state": {
      "_model_module": "@jupyter-widgets/base",
      "_model_module_version": "1.2.0",
      "_model_name": "LayoutModel",
      "_view_count": null,
      "_view_module": "@jupyter-widgets/base",
      "_view_module_version": "1.2.0",
      "_view_name": "LayoutView",
      "align_content": null,
      "align_items": null,
      "align_self": null,
      "border": null,
      "bottom": null,
      "display": null,
      "flex": null,
      "flex_flow": null,
      "grid_area": null,
      "grid_auto_columns": null,
      "grid_auto_flow": null,
      "grid_auto_rows": null,
      "grid_column": null,
      "grid_gap": null,
      "grid_row": null,
      "grid_template_areas": null,
      "grid_template_columns": null,
      "grid_template_rows": null,
      "height": null,
      "justify_content": null,
      "justify_items": null,
      "left": null,
      "margin": null,
      "max_height": null,
      "max_width": null,
      "min_height": null,
      "min_width": null,
      "object_fit": null,
      "object_position": null,
      "order": null,
      "overflow": null,
      "overflow_x": null,
      "overflow_y": null,
      "padding": null,
      "right": null,
      "top": null,
      "visibility": null,
      "width": null
     }
    }
   }
  }
 },
 "nbformat": 4,
 "nbformat_minor": 5
}
