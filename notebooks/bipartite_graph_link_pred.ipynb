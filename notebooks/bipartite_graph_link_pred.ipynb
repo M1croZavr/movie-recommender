{
 "cells": [
  {
   "cell_type": "code",
   "execution_count": 3,
   "id": "2dc88807-05a7-4f88-9ebd-452da0079053",
   "metadata": {},
   "outputs": [],
   "source": [
    "import pandas as pd\n",
    "import numpy as np\n",
    "\n",
    "import torch\n",
    "import torch.nn.functional as F\n",
    "import tqdm\n",
    "from sklearn.metrics import roc_auc_score\n",
    "from torch.nn import Embedding, Linear\n",
    "\n",
    "import torch_geometric.transforms as T\n",
    "from torch_geometric.loader import LinkNeighborLoader\n",
    "from torch_geometric.nn import SAGEConv\n",
    "from torch_geometric.utils.convert import to_scipy_sparse_matrix\n",
    "from torch.nn import Embedding, Linear\n",
    "from torch_geometric.data import HeteroData\n",
    "device = torch.device('cuda') if torch.cuda.is_available() else torch.device('cpu')"
   ]
  },
  {
   "cell_type": "markdown",
   "id": "592350f3-3a51-4833-96ea-9a7e2cf0f64f",
   "metadata": {
    "tags": []
   },
   "source": [
    "# Модель"
   ]
  },
  {
   "cell_type": "code",
   "execution_count": 4,
   "id": "d79fed7d-6e69-40d5-879b-fa338ff3d21f",
   "metadata": {},
   "outputs": [],
   "source": [
    "class EdgeDecoder(torch.nn.Module):\n",
    "    def __init__(self, hidden_channels):\n",
    "        super().__init__()\n",
    "        self.lin1 = Linear(2 * hidden_channels, hidden_channels)\n",
    "        self.lin2 = Linear(hidden_channels, 1)\n",
    "\n",
    "    def forward(self, z_src, z_dst, edge_label_index):\n",
    "        row, col = edge_label_index\n",
    "        src = z_src[row]\n",
    "        dst = z_dst[col]\n",
    "        pred = (src * dst).sum(dim = -1)\n",
    "        return pred.view(-1)\n",
    "\n",
    "class Model_2(torch.nn.Module):\n",
    "    def __init__(self, num_users, num_items, hidden_channels, out_channels):\n",
    "        super().__init__()\n",
    "        self.user_emb = Embedding(num_users, hidden_channels, device=device)\n",
    "        self.movie_emb = Embedding(num_items, hidden_channels, device=device)\n",
    "        self.conv1 = SAGEConv((-1, -1), hidden_channels)\n",
    "        self.conv2 = SAGEConv((-1, -1), hidden_channels)\n",
    "        self.conv3 = SAGEConv((-1, -1), hidden_channels)\n",
    "        self.conv4 = SAGEConv((-1, -1), hidden_channels)\n",
    "        \n",
    "        self.lin1 = Linear(hidden_channels, out_channels)\n",
    "        self.lin2 = Linear(hidden_channels, out_channels)\n",
    "        \n",
    "        self.decoder = EdgeDecoder(out_channels)\n",
    "        \n",
    "    \n",
    "    def encoder(self, x_dict, edge_index_dict):\n",
    "        # z_dict = {}\n",
    "        x_dict['user'] = self.user_emb(x_dict['user']) \n",
    "        x_dict['movie'] = self.movie_emb(x_dict['movie'])\n",
    "        \n",
    "        \n",
    "        user_1 = self.conv1(\n",
    "            (x_dict['movie'], x_dict['user']),\n",
    "            edge_index_dict[('movie', 'rev_to', 'user')],\n",
    "        ).relu()\n",
    "        \n",
    "        movie_1 = self.conv2(\n",
    "            (x_dict['user'], x_dict['movie']),\n",
    "            edge_index_dict[('user', 'to', 'movie')],\n",
    "        ).relu()\n",
    "        \n",
    "        user_2 = self.conv3(\n",
    "            (movie_1, user_1),\n",
    "            edge_index_dict[('movie', 'rev_to', 'user')],\n",
    "        ).relu()\n",
    "        \n",
    "        movie_2 = self.conv4(\n",
    "            (user_1, movie_1),\n",
    "            edge_index_dict[('user', 'to', 'movie')],\n",
    "        ).relu()\n",
    "        \n",
    "        user_3 = self.lin1(user_2)\n",
    "        movie_3 = self.lin1(movie_2)\n",
    "        \n",
    "        return user_3, movie_3\n",
    "    \n",
    "    def forward(self, x_dict, edge_index_dict, edge_label_index):\n",
    "        \n",
    "        user_3, movie_3 = self.encoder(x_dict, edge_index_dict)\n",
    "        \n",
    "        return self.decoder(user_3, movie_3, edge_label_index)"
   ]
  },
  {
   "cell_type": "code",
   "execution_count": 5,
   "id": "f3c6846d-11ef-4412-8ba8-47a7b5c00b27",
   "metadata": {},
   "outputs": [],
   "source": [
    "def train():\n",
    "    model.train()\n",
    "\n",
    "    total_loss = total_examples = 0\n",
    "    for batch in tqdm.tqdm(train_loader):\n",
    "        batch = batch.to(device)\n",
    "        optimizer.zero_grad()\n",
    "\n",
    "        pred = model(\n",
    "            batch.x_dict,\n",
    "            batch.edge_index_dict,\n",
    "            batch['user', 'movie'].edge_label_index,\n",
    "        )\n",
    "\n",
    "        loss = F.binary_cross_entropy_with_logits(\n",
    "            pred, batch['user', 'movie'].edge_label)\n",
    "\n",
    "        loss.backward()\n",
    "        optimizer.step()\n",
    "        total_loss += float(loss)\n",
    "        total_examples += pred.numel()\n",
    "\n",
    "    return total_loss / total_examples\n",
    "\n",
    "@torch.no_grad()\n",
    "def test(loader):\n",
    "    model.eval()\n",
    "\n",
    "    preds, targets = [], []\n",
    "    for batch in tqdm.tqdm(loader):\n",
    "        batch = batch.to(device)\n",
    "\n",
    "        pred = model(\n",
    "            batch.x_dict,\n",
    "            batch.edge_index_dict,\n",
    "            batch['user', 'movie'].edge_label_index,\n",
    "        ).sigmoid().view(-1).cpu()\n",
    "        target = batch['user', 'movie'].edge_label.long().cpu()\n",
    "\n",
    "        preds.append(pred)\n",
    "        targets.append(target)\n",
    "\n",
    "    pred = torch.cat(preds, dim=0).numpy()\n",
    "    target = torch.cat(targets, dim=0).numpy()\n",
    "\n",
    "    return roc_auc_score(target, pred)\n"
   ]
  },
  {
   "cell_type": "markdown",
   "id": "d7ce40d2-53af-4e51-8f92-bf93b712b754",
   "metadata": {},
   "source": [
    "# Данные"
   ]
  },
  {
   "cell_type": "code",
   "execution_count": null,
   "id": "935dd67b-7270-4169-8e82-c4a93369f265",
   "metadata": {},
   "outputs": [],
   "source": [
    "graph_data_pd = pd.read_csv('../data/events.csv')\n",
    "# print(len(graph_data_pd))\n",
    "# print(graph_data_pd.nunique())\n",
    "\n",
    "\n",
    "all_users = np.array(graph_data_pd['user_id'].drop_duplicates())\n",
    "all_movies = np.array(graph_data_pd['movie'].drop_duplicates())\n",
    "\n",
    "#Переводим в PyG\n",
    "user_mapping = {node_id: idx for idx, node_id in enumerate(all_users)}\n",
    "reverse_user_mapping = {idx: node_id for node_id, idx in user_mapping.items()}\n",
    "\n",
    "movie_mapping = {node_id: idx for idx, node_id in enumerate(all_movies)}\n",
    "reverse_movie_mapping = {idx: node_id for node_id, idx in movie_mapping.items()}\n",
    "\n",
    "graph_data_pd['item_id'] = graph_data_pd['item_id'].map(movie_mapping)\n",
    "graph_data_pd['user_id'] = graph_data_pd['user_id'].map(user_mapping)\n",
    "# print(len(graph_data_pd))"
   ]
  },
  {
   "cell_type": "code",
   "execution_count": 9,
   "id": "5929708f-d733-45e1-84cb-1ef61ff59e3d",
   "metadata": {},
   "outputs": [],
   "source": [
    "data = HeteroData()\n",
    "\n",
    "data['user'].x = torch.arange(0, len(all_users))\n",
    "data['user'].num_nodes = len(all_users)\n",
    "data['movie'].x = torch.arange(0, len(all_movies))\n",
    "data['movie'].num_nodes = len(all_movies)\n",
    "\n",
    "data['user', 'to', 'movie'].edge_index = torch.tensor(graph_data_pd[['user_id', 'merch']].values).T\n",
    "# Добавляем обратную связь\n",
    "data = T.ToUndirected()(data)"
   ]
  },
  {
   "cell_type": "code",
   "execution_count": 10,
   "id": "55f4f322-a2c2-4b8e-83f1-bd15ede8d122",
   "metadata": {},
   "outputs": [],
   "source": [
    "# Разбиение на уровне связей\n",
    "train_data, val_data, test_data = T.RandomLinkSplit(\n",
    "    num_val=0.1,\n",
    "    num_test=0.1,\n",
    "    neg_sampling_ratio=1.0,\n",
    "    add_negative_train_samples=False,\n",
    "    edge_types=[('user', 'to', 'movie')],\n",
    "    rev_edge_types=[('movie', 'rev_to', 'user')],\n",
    ")(data)"
   ]
  },
  {
   "cell_type": "code",
   "execution_count": 11,
   "id": "4db88a86-7bb8-49ba-8cb9-253745711fa0",
   "metadata": {},
   "outputs": [
    {
     "name": "stderr",
     "output_type": "stream",
     "text": [
      "/opt/conda/envs/python37-torch/lib/python3.7/site-packages/torch_geometric/sampler/neighbor_sampler.py:50: UserWarning: Using '{self.__class__.__name__}' without a 'pyg-lib' installation is deprecated and will be removed soon. Please install 'pyg-lib' for accelerated neighborhood sampling\n",
      "  warnings.warn(\"Using '{self.__class__.__name__}' without a \"\n"
     ]
    }
   ],
   "source": [
    "train_loader = LinkNeighborLoader(\n",
    "    data=train_data,\n",
    "    num_neighbors=[8, 4],\n",
    "    edge_label_index=('user', 'to', 'movie'),\n",
    "    neg_sampling='binary',\n",
    "    batch_size=2048,\n",
    "    shuffle=True,\n",
    "    num_workers=16,\n",
    "    drop_last=True,\n",
    ")\n",
    "\n",
    "val_loader = LinkNeighborLoader(\n",
    "    data=val_data,\n",
    "    num_neighbors=[8, 4],\n",
    "    edge_label_index=(\n",
    "        ('user', 'to', 'movie'),\n",
    "        val_data[('user', 'to', 'movie')].edge_label_index,\n",
    "    ),\n",
    "    edge_label=val_data[('user', 'to', 'movie')].edge_label,\n",
    "    batch_size=2048,\n",
    "    shuffle=False,\n",
    "    num_workers=16,\n",
    ")\n",
    "\n",
    "test_loader = LinkNeighborLoader(\n",
    "    data=test_data,\n",
    "    num_neighbors=[8, 4],\n",
    "    edge_label_index=(\n",
    "        ('user', 'to', 'movie'),\n",
    "        test_data[('user', 'to', 'movie')].edge_label_index,\n",
    "    ),\n",
    "    edge_label=test_data[('user', 'to', 'movie')].edge_label,\n",
    "    batch_size=2048,\n",
    "    shuffle=False,\n",
    "    num_workers=16,\n",
    ")\n"
   ]
  },
  {
   "cell_type": "code",
   "execution_count": 12,
   "id": "6d36dc6e-1373-479d-b166-061a567ef302",
   "metadata": {},
   "outputs": [],
   "source": [
    "model = Model_2(\n",
    "    num_users=data['user'].num_nodes,\n",
    "    num_items=data['movie'].num_nodes,\n",
    "    hidden_channels=64,\n",
    "    out_channels=64,\n",
    ").to(device)\n",
    "optimizer = torch.optim.Adam(model.parameters(), lr=0.001)"
   ]
  },
  {
   "cell_type": "code",
   "execution_count": 13,
   "id": "ce716f5c-9864-45d5-b1cb-b9cd5f865fda",
   "metadata": {},
   "outputs": [
    {
     "name": "stderr",
     "output_type": "stream",
     "text": [
      "100%|██████████| 349/349 [02:22<00:00,  2.44it/s]\n",
      "100%|██████████| 88/88 [00:04<00:00, 20.49it/s]\n",
      "100%|██████████| 88/88 [00:04<00:00, 20.32it/s]\n"
     ]
    },
    {
     "name": "stdout",
     "output_type": "stream",
     "text": [
      "Epoch: 01, Loss: 0.000130, Val: 0.8771, Test: 0.8773\n"
     ]
    },
    {
     "name": "stderr",
     "output_type": "stream",
     "text": [
      "100%|██████████| 349/349 [02:20<00:00,  2.49it/s]\n",
      "100%|██████████| 88/88 [00:03<00:00, 23.68it/s]\n",
      "100%|██████████| 88/88 [00:03<00:00, 23.38it/s]\n"
     ]
    },
    {
     "name": "stdout",
     "output_type": "stream",
     "text": [
      "Epoch: 02, Loss: 0.000108, Val: 0.8947, Test: 0.8950\n"
     ]
    },
    {
     "name": "stderr",
     "output_type": "stream",
     "text": [
      "100%|██████████| 349/349 [02:21<00:00,  2.47it/s]\n",
      "100%|██████████| 88/88 [00:04<00:00, 21.47it/s]\n",
      "100%|██████████| 88/88 [00:04<00:00, 21.32it/s]\n"
     ]
    },
    {
     "name": "stdout",
     "output_type": "stream",
     "text": [
      "Epoch: 03, Loss: 0.000104, Val: 0.8991, Test: 0.8993\n"
     ]
    },
    {
     "name": "stderr",
     "output_type": "stream",
     "text": [
      "100%|██████████| 349/349 [02:26<00:00,  2.38it/s]\n",
      "100%|██████████| 88/88 [00:04<00:00, 20.66it/s]\n",
      "100%|██████████| 88/88 [00:03<00:00, 25.30it/s]\n"
     ]
    },
    {
     "name": "stdout",
     "output_type": "stream",
     "text": [
      "Epoch: 04, Loss: 0.000103, Val: 0.9009, Test: 0.9020\n"
     ]
    },
    {
     "name": "stderr",
     "output_type": "stream",
     "text": [
      "100%|██████████| 349/349 [02:26<00:00,  2.39it/s]\n",
      "100%|██████████| 88/88 [00:04<00:00, 20.95it/s]\n",
      "100%|██████████| 88/88 [00:03<00:00, 22.16it/s]\n"
     ]
    },
    {
     "name": "stdout",
     "output_type": "stream",
     "text": [
      "Epoch: 05, Loss: 0.000102, Val: 0.9022, Test: 0.9031\n"
     ]
    },
    {
     "name": "stderr",
     "output_type": "stream",
     "text": [
      "100%|██████████| 349/349 [02:32<00:00,  2.29it/s]\n",
      "100%|██████████| 88/88 [00:04<00:00, 21.57it/s]\n",
      "100%|██████████| 88/88 [00:04<00:00, 20.65it/s]\n"
     ]
    },
    {
     "name": "stdout",
     "output_type": "stream",
     "text": [
      "Epoch: 06, Loss: 0.000101, Val: 0.9033, Test: 0.9038\n"
     ]
    },
    {
     "name": "stderr",
     "output_type": "stream",
     "text": [
      "100%|██████████| 349/349 [02:30<00:00,  2.32it/s]\n",
      "100%|██████████| 88/88 [00:04<00:00, 19.09it/s]\n",
      "100%|██████████| 88/88 [00:04<00:00, 21.78it/s]\n"
     ]
    },
    {
     "name": "stdout",
     "output_type": "stream",
     "text": [
      "Epoch: 07, Loss: 0.000101, Val: 0.9047, Test: 0.9053\n"
     ]
    },
    {
     "name": "stderr",
     "output_type": "stream",
     "text": [
      "100%|██████████| 349/349 [02:28<00:00,  2.36it/s]\n",
      "100%|██████████| 88/88 [00:03<00:00, 22.04it/s]\n",
      "100%|██████████| 88/88 [00:03<00:00, 25.42it/s]\n"
     ]
    },
    {
     "name": "stdout",
     "output_type": "stream",
     "text": [
      "Epoch: 08, Loss: 0.000100, Val: 0.9059, Test: 0.9066\n"
     ]
    },
    {
     "name": "stderr",
     "output_type": "stream",
     "text": [
      "100%|██████████| 349/349 [02:36<00:00,  2.23it/s]\n",
      "100%|██████████| 88/88 [00:04<00:00, 18.73it/s]\n",
      "100%|██████████| 88/88 [00:04<00:00, 19.14it/s]"
     ]
    },
    {
     "name": "stdout",
     "output_type": "stream",
     "text": [
      "Epoch: 09, Loss: 0.000099, Val: 0.9078, Test: 0.9083\n"
     ]
    },
    {
     "name": "stderr",
     "output_type": "stream",
     "text": [
      "\n"
     ]
    }
   ],
   "source": [
    "for epoch in range(1, 10):\n",
    "    loss = train()\n",
    "    val_auc = test(val_loader)\n",
    "    test_auc = test(test_loader)\n",
    "\n",
    "    print(f'Epoch: {epoch:02d}, Loss: {loss:4f}, Val: {val_auc:.4f}, '\n",
    "          f'Test: {test_auc:.4f}')"
   ]
  },
  {
   "cell_type": "code",
   "execution_count": 14,
   "id": "e20cb86b-648d-46e7-8017-3508d5ed4495",
   "metadata": {},
   "outputs": [],
   "source": [
    "user_embeddings, movie_embeddings = model.encoder({k:v.to(device) for k,v in data.x_dict.items()}\\\n",
    "                                                    , {k:v.to(device) for k,v in data.edge_index_dict.items()})"
   ]
  },
  {
   "cell_type": "code",
   "execution_count": 108,
   "id": "fae7ddd0-25fe-447e-a02d-70238464ef44",
   "metadata": {},
   "outputs": [],
   "source": [
    "preds = (user_embeddings @ movie_embeddings.T).cpu().detach().numpy()"
   ]
  },
  {
   "cell_type": "code",
   "execution_count": 109,
   "id": "76df5f57-cdd0-4dd7-895d-4117ffcb9b2c",
   "metadata": {},
   "outputs": [],
   "source": [
    "preds = np.argsort(preds)"
   ]
  },
  {
   "cell_type": "code",
   "execution_count": 111,
   "id": "33399a92-9b01-41d6-a042-7472ce682be3",
   "metadata": {},
   "outputs": [],
   "source": [
    "vectorized_replace = np.vectorize(reverse_merch_mapping.get)\n",
    "preds = vectorized_replace(preds)"
   ]
  },
  {
   "cell_type": "code",
   "execution_count": 112,
   "id": "f75e0810-cf0c-434b-b122-cab37889f608",
   "metadata": {},
   "outputs": [
    {
     "data": {
      "text/plain": [
       "array([[ 137, 2513, 2631, ..., 2603, 1831, 2757],\n",
       "       [ 137, 2513, 2631, ..., 1583, 3529,  472],\n",
       "       [ 137, 2513, 2631, ..., 2603,  584, 1039],\n",
       "       ...,\n",
       "       [ 137, 2513, 1266, ..., 2297, 1583,  472],\n",
       "       [ 137, 2513, 2631, ..., 1039, 1583, 2980],\n",
       "       [ 137, 2513, 2631, ...,  472, 3529, 2297]])"
      ]
     },
     "execution_count": 112,
     "metadata": {},
     "output_type": "execute_result"
    }
   ],
   "source": [
    "preds"
   ]
  },
  {
   "cell_type": "code",
   "execution_count": 113,
   "id": "87002829-c725-4e4d-a70d-2524b75d27a2",
   "metadata": {},
   "outputs": [],
   "source": [
    "#уже были\n",
    "delete = graph_data_pd.groupby('user_id')['merch'].apply(list)"
   ]
  },
  {
   "cell_type": "code",
   "execution_count": 116,
   "id": "e61184d1-269e-4f07-9719-b8af808e0442",
   "metadata": {},
   "outputs": [
    {
     "name": "stderr",
     "output_type": "stream",
     "text": [
      "100%|██████████| 6040/6040 [00:02<00:00, 2739.56it/s]\n"
     ]
    }
   ],
   "source": [
    "answer = []\n",
    "for i in tqdm.tqdm(range(len(preds))):\n",
    "    cur_answer = []\n",
    "    match = delete.iloc[i]\n",
    "    j = len(preds[0]) - 1\n",
    "    while len(cur_answer) < 10:\n",
    "        if preds[i, j] not in match:\n",
    "            cur_answer.append(preds[i, j])\n",
    "        j-=1\n",
    "    answer.append(cur_answer)"
   ]
  },
  {
   "cell_type": "code",
   "execution_count": 156,
   "id": "792830f0-fe84-4bca-b9b7-729e400399e0",
   "metadata": {},
   "outputs": [
    {
     "data": {
      "text/plain": [
       "([2602, 2732, 1304, 2630, 398, 1001, 2331, 331, 2688, 1811],\n",
       " [3529, 36, 1039, 463, 1811, 169, 3677, 1315, 2281, 3153])"
      ]
     },
     "execution_count": 156,
     "metadata": {},
     "output_type": "execute_result"
    }
   ],
   "source": [
    "answer[0], answer[1]"
   ]
  },
  {
   "cell_type": "code",
   "execution_count": 157,
   "id": "1219398e-05da-4b94-b345-c1665afc3c14",
   "metadata": {},
   "outputs": [],
   "source": [
    "correct_answer = []\n",
    "for line in answer:\n",
    "    correct_answer.append(' '.join(list(map(str, line))))"
   ]
  },
  {
   "cell_type": "code",
   "execution_count": 158,
   "id": "242f3943-7968-4368-a8a8-a374f4085bb2",
   "metadata": {},
   "outputs": [],
   "source": [
    "answer_pd =  pd.DataFrame(correct_answer, columns = ['item_id'])\n",
    "answer_pd['user_id'] = answer_pd.index"
   ]
  },
  {
   "cell_type": "code",
   "execution_count": 159,
   "id": "15b73afa-a481-4fdf-a3c0-0c28558a0a90",
   "metadata": {},
   "outputs": [],
   "source": [
    "answer_pd[['user_id', 'item_id']].to_csv('submission_gg.csv', index = False)"
   ]
  },
  {
   "cell_type": "code",
   "execution_count": 161,
   "id": "9efd60a1-0546-4624-a50a-b6d1ada3f951",
   "metadata": {},
   "outputs": [
    {
     "data": {
      "text/html": [
       "<div>\n",
       "<style scoped>\n",
       "    .dataframe tbody tr th:only-of-type {\n",
       "        vertical-align: middle;\n",
       "    }\n",
       "\n",
       "    .dataframe tbody tr th {\n",
       "        vertical-align: top;\n",
       "    }\n",
       "\n",
       "    .dataframe thead th {\n",
       "        text-align: right;\n",
       "    }\n",
       "</style>\n",
       "<table border=\"1\" class=\"dataframe\">\n",
       "  <thead>\n",
       "    <tr style=\"text-align: right;\">\n",
       "      <th></th>\n",
       "      <th>item_id</th>\n",
       "      <th>user_id</th>\n",
       "    </tr>\n",
       "  </thead>\n",
       "  <tbody>\n",
       "    <tr>\n",
       "      <th>0</th>\n",
       "      <td>2602 2732 1304 2630 398 1001 2331 331 2688 1811</td>\n",
       "      <td>0</td>\n",
       "    </tr>\n",
       "    <tr>\n",
       "      <th>1</th>\n",
       "      <td>3529 36 1039 463 1811 169 3677 1315 2281 3153</td>\n",
       "      <td>1</td>\n",
       "    </tr>\n",
       "    <tr>\n",
       "      <th>2</th>\n",
       "      <td>1039 2603 640 1831 3409 1560 1956 463 2732 1223</td>\n",
       "      <td>2</td>\n",
       "    </tr>\n",
       "    <tr>\n",
       "      <th>3</th>\n",
       "      <td>3327 1546 2768 2603 1304 3022 3529 3046 1001 2688</td>\n",
       "      <td>3</td>\n",
       "    </tr>\n",
       "    <tr>\n",
       "      <th>4</th>\n",
       "      <td>1039 2297 2603 3022 1583 3409 1560 2732 2646 2210</td>\n",
       "      <td>4</td>\n",
       "    </tr>\n",
       "    <tr>\n",
       "      <th>...</th>\n",
       "      <td>...</td>\n",
       "      <td>...</td>\n",
       "    </tr>\n",
       "    <tr>\n",
       "      <th>6035</th>\n",
       "      <td>584 3409 1956 3529 463 2646 2054 36 1615 3013</td>\n",
       "      <td>6035</td>\n",
       "    </tr>\n",
       "    <tr>\n",
       "      <th>6036</th>\n",
       "      <td>1560 2297 36 584 2402 3013 3529 2862 1337 1039</td>\n",
       "      <td>6036</td>\n",
       "    </tr>\n",
       "    <tr>\n",
       "      <th>6037</th>\n",
       "      <td>472 1583 2297 3409 584 36 1223 1560 3022 2402</td>\n",
       "      <td>6037</td>\n",
       "    </tr>\n",
       "    <tr>\n",
       "      <th>6038</th>\n",
       "      <td>1583 640 476 3473 1746 785 1543 3046 944 1640</td>\n",
       "      <td>6038</td>\n",
       "    </tr>\n",
       "    <tr>\n",
       "      <th>6039</th>\n",
       "      <td>3529 640 1831 1615 3022 2630 1811 2664 476 1315</td>\n",
       "      <td>6039</td>\n",
       "    </tr>\n",
       "  </tbody>\n",
       "</table>\n",
       "<p>6040 rows × 2 columns</p>\n",
       "</div>"
      ],
      "text/plain": [
       "                                                item_id  user_id\n",
       "0       2602 2732 1304 2630 398 1001 2331 331 2688 1811        0\n",
       "1         3529 36 1039 463 1811 169 3677 1315 2281 3153        1\n",
       "2       1039 2603 640 1831 3409 1560 1956 463 2732 1223        2\n",
       "3     3327 1546 2768 2603 1304 3022 3529 3046 1001 2688        3\n",
       "4     1039 2297 2603 3022 1583 3409 1560 2732 2646 2210        4\n",
       "...                                                 ...      ...\n",
       "6035      584 3409 1956 3529 463 2646 2054 36 1615 3013     6035\n",
       "6036     1560 2297 36 584 2402 3013 3529 2862 1337 1039     6036\n",
       "6037      472 1583 2297 3409 584 36 1223 1560 3022 2402     6037\n",
       "6038      1583 640 476 3473 1746 785 1543 3046 944 1640     6038\n",
       "6039    3529 640 1831 1615 3022 2630 1811 2664 476 1315     6039\n",
       "\n",
       "[6040 rows x 2 columns]"
      ]
     },
     "execution_count": 161,
     "metadata": {},
     "output_type": "execute_result"
    }
   ],
   "source": [
    "answer_pd"
   ]
  },
  {
   "cell_type": "code",
   "execution_count": null,
   "id": "ffffd61e-d686-4cfa-adfb-86efb73c3cc2",
   "metadata": {},
   "outputs": [],
   "source": []
  }
 ],
 "metadata": {
  "interpreter": {
   "hash": "d4d1e4263499bec80672ea0156c357c1ee493ec2b1c70f0acce89fc37c4a6abe"
  },
  "kernelspec": {
   "display_name": "Python 3 (ipykernel)",
   "language": "python",
   "name": "python3"
  },
  "language_info": {
   "codemirror_mode": {
    "name": "ipython",
    "version": 3
   },
   "file_extension": ".py",
   "mimetype": "text/x-python",
   "name": "python",
   "nbconvert_exporter": "python",
   "pygments_lexer": "ipython3",
   "version": "3.10.15"
  }
 },
 "nbformat": 4,
 "nbformat_minor": 5
}
